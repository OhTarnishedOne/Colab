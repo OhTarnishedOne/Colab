{
  "cells": [
    {
      "cell_type": "markdown",
      "metadata": {
        "id": "view-in-github",
        "colab_type": "text"
      },
      "source": [
        "<a href=\"https://colab.research.google.com/github/OhTarnishedOne/Colab/blob/main/GC_venture_funding_with_deep_learning.ipynb\" target=\"_parent\"><img src=\"https://colab.research.google.com/assets/colab-badge.svg\" alt=\"Open In Colab\"/></a>"
      ]
    },
    {
      "cell_type": "markdown",
      "metadata": {
        "id": "JmEcaJzVURr_"
      },
      "source": [
        "# Venture Funding with Deep Learning\n",
        "\n",
        "You work as a risk management associate at Alphabet Soup, a venture capital firm. Alphabet Soup’s business team receives many funding applications from startups every day. This team has asked you to help them create a model that predicts whether applicants will be successful if funded by Alphabet Soup.\n",
        "\n",
        "The business team has given you a CSV containing more than 34,000 organizations that have received funding from Alphabet Soup over the years. With your knowledge of machine learning and neural networks, you decide to use the features in the provided dataset to create a binary classifier model that will predict whether an applicant will become a successful business. The CSV file contains a variety of information about these businesses, including whether or not they ultimately became successful.\n",
        "\n",
        "## Instructions:\n",
        "\n",
        "The steps for this challenge are broken out into the following sections:\n",
        "\n",
        "* Prepare the data for use on a neural network model.\n",
        "\n",
        "* Compile and evaluate a binary classification model using a neural network.\n",
        "\n",
        "* Optimize the neural network model.\n",
        "\n",
        "### Prepare the Data for Use on a Neural Network Model \n",
        "\n",
        "Using your knowledge of Pandas and scikit-learn’s `StandardScaler()`, preprocess the dataset so that you can use it to compile and evaluate the neural network model later.\n",
        "\n",
        "Open the starter code file, and complete the following data preparation steps:\n",
        "\n",
        "1. Read the `applicants_data.csv` file into a Pandas DataFrame. Review the DataFrame, looking for categorical variables that will need to be encoded, as well as columns that could eventually define your features and target variables.   \n",
        "\n",
        "2. Drop the “EIN” (Employer Identification Number) and “NAME” columns from the DataFrame, because they are not relevant to the binary classification model.\n",
        " \n",
        "3. Encode the dataset’s categorical variables using `OneHotEncoder`, and then place the encoded variables into a new DataFrame.\n",
        "\n",
        "4. Add the original DataFrame’s numerical variables to the DataFrame containing the encoded variables.\n",
        "\n",
        "> **Note** To complete this step, you will employ the Pandas `concat()` function that was introduced earlier in this course. \n",
        "\n",
        "5. Using the preprocessed data, create the features (`X`) and target (`y`) datasets. The target dataset should be defined by the preprocessed DataFrame column “IS_SUCCESSFUL”. The remaining columns should define the features dataset. \n",
        "\n",
        "6. Split the features and target sets into training and testing datasets.\n",
        "\n",
        "7. Use scikit-learn's `StandardScaler` to scale the features data.\n",
        "\n",
        "### Compile and Evaluate a Binary Classification Model Using a Neural Network\n",
        "\n",
        "Use your knowledge of TensorFlow to design a binary classification deep neural network model. This model should use the dataset’s features to predict whether an Alphabet Soup&ndash;funded startup will be successful based on the features in the dataset. Consider the number of inputs before determining the number of layers that your model will contain or the number of neurons on each layer. Then, compile and fit your model. Finally, evaluate your binary classification model to calculate the model’s loss and accuracy. \n",
        " \n",
        "To do so, complete the following steps:\n",
        "\n",
        "1. Create a deep neural network by assigning the number of input features, the number of layers, and the number of neurons on each layer using Tensorflow’s Keras.\n",
        "\n",
        "> **Hint** You can start with a two-layer deep neural network model that uses the `relu` activation function for both layers.\n",
        "\n",
        "2. Compile and fit the model using the `binary_crossentropy` loss function, the `adam` optimizer, and the `accuracy` evaluation metric.\n",
        "\n",
        "> **Hint** When fitting the model, start with a small number of epochs, such as 20, 50, or 100.\n",
        "\n",
        "3. Evaluate the model using the test data to determine the model’s loss and accuracy.\n",
        "\n",
        "4. Save and export your model to an HDF5 file, and name the file `AlphabetSoup.h5`. \n",
        "\n",
        "### Optimize the Neural Network Model\n",
        "\n",
        "Using your knowledge of TensorFlow and Keras, optimize your model to improve the model's accuracy. Even if you do not successfully achieve a better accuracy, you'll need to demonstrate at least two attempts to optimize the model. You can include these attempts in your existing notebook. Or, you can make copies of the starter notebook in the same folder, rename them, and code each model optimization in a new notebook. \n",
        "\n",
        "> **Note** You will not lose points if your model does not achieve a high accuracy, as long as you make at least two attempts to optimize the model.\n",
        "\n",
        "To do so, complete the following steps:\n",
        "\n",
        "1. Define at least three new deep neural network models (the original plus 2 optimization attempts). With each, try to improve on your first model’s predictive accuracy.\n",
        "\n",
        "> **Rewind** Recall that perfect accuracy has a value of 1, so accuracy improves as its value moves closer to 1. To optimize your model for a predictive accuracy as close to 1 as possible, you can use any or all of the following techniques:\n",
        ">\n",
        "> * Adjust the input data by dropping different features columns to ensure that no variables or outliers confuse the model.\n",
        ">\n",
        "> * Add more neurons (nodes) to a hidden layer.\n",
        ">\n",
        "> * Add more hidden layers.\n",
        ">\n",
        "> * Use different activation functions for the hidden layers.\n",
        ">\n",
        "> * Add to or reduce the number of epochs in the training regimen.\n",
        "\n",
        "2. After finishing your models, display the accuracy scores achieved by each model, and compare the results.\n",
        "\n",
        "3. Save each of your models as an HDF5 file.\n"
      ]
    },
    {
      "cell_type": "code",
      "execution_count": 1,
      "metadata": {
        "id": "6XiL4BeyURsD"
      },
      "outputs": [],
      "source": [
        "# Imports\n",
        "import pandas as pd\n",
        "import tensorflow as tf\n",
        "from tensorflow.keras.layers import Dense\n",
        "from tensorflow.keras.models import Sequential\n",
        "from sklearn.model_selection import train_test_split\n",
        "from sklearn.preprocessing import StandardScaler\n",
        "from pathlib import Path"
      ]
    },
    {
      "cell_type": "markdown",
      "metadata": {
        "id": "JzvfMq--URsD"
      },
      "source": [
        "---\n",
        "\n",
        "## Prepare the data to be used on a neural network model"
      ]
    },
    {
      "cell_type": "markdown",
      "metadata": {
        "id": "pJWhWy1zURsE"
      },
      "source": [
        "### Step 1: Read the `applicants_data.csv` file into a Pandas DataFrame. Review the DataFrame, looking for categorical variables that will need to be encoded, as well as columns that could eventually define your features and target variables.  \n"
      ]
    },
    {
      "cell_type": "code",
      "execution_count": 2,
      "metadata": {
        "id": "gSTFDSzYURsE",
        "colab": {
          "base_uri": "https://localhost:8080/",
          "height": 496
        },
        "outputId": "cf5e2708-5358-4c84-cff8-0f6bf7d0eb92"
      },
      "outputs": [
        {
          "output_type": "execute_result",
          "data": {
            "text/plain": [
              "        EIN                                      NAME APPLICATION_TYPE  \\\n",
              "0  10520599              BLUE KNIGHTS MOTORCYCLE CLUB              T10   \n",
              "1  10531628    AMERICAN CHESAPEAKE CLUB CHARITABLE TR               T3   \n",
              "2  10547893        ST CLOUD PROFESSIONAL FIREFIGHTERS               T5   \n",
              "3  10553066            SOUTHSIDE ATHLETIC ASSOCIATION               T3   \n",
              "4  10556103  GENETIC RESEARCH INSTITUTE OF THE DESERT               T3   \n",
              "\n",
              "        AFFILIATION CLASSIFICATION      USE_CASE  ORGANIZATION  STATUS  \\\n",
              "0       Independent          C1000    ProductDev   Association       1   \n",
              "1       Independent          C2000  Preservation  Co-operative       1   \n",
              "2  CompanySponsored          C3000    ProductDev   Association       1   \n",
              "3  CompanySponsored          C2000  Preservation         Trust       1   \n",
              "4       Independent          C1000     Heathcare         Trust       1   \n",
              "\n",
              "      INCOME_AMT SPECIAL_CONSIDERATIONS  ASK_AMT  IS_SUCCESSFUL  \n",
              "0              0                      N     5000              1  \n",
              "1         1-9999                      N   108590              1  \n",
              "2              0                      N     5000              0  \n",
              "3    10000-24999                      N     6692              1  \n",
              "4  100000-499999                      N   142590              1  "
            ],
            "text/html": [
              "\n",
              "  <div id=\"df-72f8e65d-08ed-40e5-9923-44c75b7414dc\">\n",
              "    <div class=\"colab-df-container\">\n",
              "      <div>\n",
              "<style scoped>\n",
              "    .dataframe tbody tr th:only-of-type {\n",
              "        vertical-align: middle;\n",
              "    }\n",
              "\n",
              "    .dataframe tbody tr th {\n",
              "        vertical-align: top;\n",
              "    }\n",
              "\n",
              "    .dataframe thead th {\n",
              "        text-align: right;\n",
              "    }\n",
              "</style>\n",
              "<table border=\"1\" class=\"dataframe\">\n",
              "  <thead>\n",
              "    <tr style=\"text-align: right;\">\n",
              "      <th></th>\n",
              "      <th>EIN</th>\n",
              "      <th>NAME</th>\n",
              "      <th>APPLICATION_TYPE</th>\n",
              "      <th>AFFILIATION</th>\n",
              "      <th>CLASSIFICATION</th>\n",
              "      <th>USE_CASE</th>\n",
              "      <th>ORGANIZATION</th>\n",
              "      <th>STATUS</th>\n",
              "      <th>INCOME_AMT</th>\n",
              "      <th>SPECIAL_CONSIDERATIONS</th>\n",
              "      <th>ASK_AMT</th>\n",
              "      <th>IS_SUCCESSFUL</th>\n",
              "    </tr>\n",
              "  </thead>\n",
              "  <tbody>\n",
              "    <tr>\n",
              "      <th>0</th>\n",
              "      <td>10520599</td>\n",
              "      <td>BLUE KNIGHTS MOTORCYCLE CLUB</td>\n",
              "      <td>T10</td>\n",
              "      <td>Independent</td>\n",
              "      <td>C1000</td>\n",
              "      <td>ProductDev</td>\n",
              "      <td>Association</td>\n",
              "      <td>1</td>\n",
              "      <td>0</td>\n",
              "      <td>N</td>\n",
              "      <td>5000</td>\n",
              "      <td>1</td>\n",
              "    </tr>\n",
              "    <tr>\n",
              "      <th>1</th>\n",
              "      <td>10531628</td>\n",
              "      <td>AMERICAN CHESAPEAKE CLUB CHARITABLE TR</td>\n",
              "      <td>T3</td>\n",
              "      <td>Independent</td>\n",
              "      <td>C2000</td>\n",
              "      <td>Preservation</td>\n",
              "      <td>Co-operative</td>\n",
              "      <td>1</td>\n",
              "      <td>1-9999</td>\n",
              "      <td>N</td>\n",
              "      <td>108590</td>\n",
              "      <td>1</td>\n",
              "    </tr>\n",
              "    <tr>\n",
              "      <th>2</th>\n",
              "      <td>10547893</td>\n",
              "      <td>ST CLOUD PROFESSIONAL FIREFIGHTERS</td>\n",
              "      <td>T5</td>\n",
              "      <td>CompanySponsored</td>\n",
              "      <td>C3000</td>\n",
              "      <td>ProductDev</td>\n",
              "      <td>Association</td>\n",
              "      <td>1</td>\n",
              "      <td>0</td>\n",
              "      <td>N</td>\n",
              "      <td>5000</td>\n",
              "      <td>0</td>\n",
              "    </tr>\n",
              "    <tr>\n",
              "      <th>3</th>\n",
              "      <td>10553066</td>\n",
              "      <td>SOUTHSIDE ATHLETIC ASSOCIATION</td>\n",
              "      <td>T3</td>\n",
              "      <td>CompanySponsored</td>\n",
              "      <td>C2000</td>\n",
              "      <td>Preservation</td>\n",
              "      <td>Trust</td>\n",
              "      <td>1</td>\n",
              "      <td>10000-24999</td>\n",
              "      <td>N</td>\n",
              "      <td>6692</td>\n",
              "      <td>1</td>\n",
              "    </tr>\n",
              "    <tr>\n",
              "      <th>4</th>\n",
              "      <td>10556103</td>\n",
              "      <td>GENETIC RESEARCH INSTITUTE OF THE DESERT</td>\n",
              "      <td>T3</td>\n",
              "      <td>Independent</td>\n",
              "      <td>C1000</td>\n",
              "      <td>Heathcare</td>\n",
              "      <td>Trust</td>\n",
              "      <td>1</td>\n",
              "      <td>100000-499999</td>\n",
              "      <td>N</td>\n",
              "      <td>142590</td>\n",
              "      <td>1</td>\n",
              "    </tr>\n",
              "  </tbody>\n",
              "</table>\n",
              "</div>\n",
              "      <button class=\"colab-df-convert\" onclick=\"convertToInteractive('df-72f8e65d-08ed-40e5-9923-44c75b7414dc')\"\n",
              "              title=\"Convert this dataframe to an interactive table.\"\n",
              "              style=\"display:none;\">\n",
              "        \n",
              "  <svg xmlns=\"http://www.w3.org/2000/svg\" height=\"24px\"viewBox=\"0 0 24 24\"\n",
              "       width=\"24px\">\n",
              "    <path d=\"M0 0h24v24H0V0z\" fill=\"none\"/>\n",
              "    <path d=\"M18.56 5.44l.94 2.06.94-2.06 2.06-.94-2.06-.94-.94-2.06-.94 2.06-2.06.94zm-11 1L8.5 8.5l.94-2.06 2.06-.94-2.06-.94L8.5 2.5l-.94 2.06-2.06.94zm10 10l.94 2.06.94-2.06 2.06-.94-2.06-.94-.94-2.06-.94 2.06-2.06.94z\"/><path d=\"M17.41 7.96l-1.37-1.37c-.4-.4-.92-.59-1.43-.59-.52 0-1.04.2-1.43.59L10.3 9.45l-7.72 7.72c-.78.78-.78 2.05 0 2.83L4 21.41c.39.39.9.59 1.41.59.51 0 1.02-.2 1.41-.59l7.78-7.78 2.81-2.81c.8-.78.8-2.07 0-2.86zM5.41 20L4 18.59l7.72-7.72 1.47 1.35L5.41 20z\"/>\n",
              "  </svg>\n",
              "      </button>\n",
              "      \n",
              "  <style>\n",
              "    .colab-df-container {\n",
              "      display:flex;\n",
              "      flex-wrap:wrap;\n",
              "      gap: 12px;\n",
              "    }\n",
              "\n",
              "    .colab-df-convert {\n",
              "      background-color: #E8F0FE;\n",
              "      border: none;\n",
              "      border-radius: 50%;\n",
              "      cursor: pointer;\n",
              "      display: none;\n",
              "      fill: #1967D2;\n",
              "      height: 32px;\n",
              "      padding: 0 0 0 0;\n",
              "      width: 32px;\n",
              "    }\n",
              "\n",
              "    .colab-df-convert:hover {\n",
              "      background-color: #E2EBFA;\n",
              "      box-shadow: 0px 1px 2px rgba(60, 64, 67, 0.3), 0px 1px 3px 1px rgba(60, 64, 67, 0.15);\n",
              "      fill: #174EA6;\n",
              "    }\n",
              "\n",
              "    [theme=dark] .colab-df-convert {\n",
              "      background-color: #3B4455;\n",
              "      fill: #D2E3FC;\n",
              "    }\n",
              "\n",
              "    [theme=dark] .colab-df-convert:hover {\n",
              "      background-color: #434B5C;\n",
              "      box-shadow: 0px 1px 3px 1px rgba(0, 0, 0, 0.15);\n",
              "      filter: drop-shadow(0px 1px 2px rgba(0, 0, 0, 0.3));\n",
              "      fill: #FFFFFF;\n",
              "    }\n",
              "  </style>\n",
              "\n",
              "      <script>\n",
              "        const buttonEl =\n",
              "          document.querySelector('#df-72f8e65d-08ed-40e5-9923-44c75b7414dc button.colab-df-convert');\n",
              "        buttonEl.style.display =\n",
              "          google.colab.kernel.accessAllowed ? 'block' : 'none';\n",
              "\n",
              "        async function convertToInteractive(key) {\n",
              "          const element = document.querySelector('#df-72f8e65d-08ed-40e5-9923-44c75b7414dc');\n",
              "          const dataTable =\n",
              "            await google.colab.kernel.invokeFunction('convertToInteractive',\n",
              "                                                     [key], {});\n",
              "          if (!dataTable) return;\n",
              "\n",
              "          const docLinkHtml = 'Like what you see? Visit the ' +\n",
              "            '<a target=\"_blank\" href=https://colab.research.google.com/notebooks/data_table.ipynb>data table notebook</a>'\n",
              "            + ' to learn more about interactive tables.';\n",
              "          element.innerHTML = '';\n",
              "          dataTable['output_type'] = 'display_data';\n",
              "          await google.colab.output.renderOutput(dataTable, element);\n",
              "          const docLink = document.createElement('div');\n",
              "          docLink.innerHTML = docLinkHtml;\n",
              "          element.appendChild(docLink);\n",
              "        }\n",
              "      </script>\n",
              "    </div>\n",
              "  </div>\n",
              "  "
            ]
          },
          "metadata": {},
          "execution_count": 2
        }
      ],
      "source": [
        "# Read the applicants_data.csv file from the Resources folder into a Pandas DataFrame\n",
        "applicant_data_df = pd.read_csv(\"applicants_data.csv\")\n",
        "\n",
        "# Review the DataFrame\n",
        "applicant_data_df.head()"
      ]
    },
    {
      "cell_type": "code",
      "execution_count": 3,
      "metadata": {
        "id": "C-WB0yc4URsE",
        "colab": {
          "base_uri": "https://localhost:8080/"
        },
        "outputId": "dc1c3751-9ca9-4e5a-87e0-e55ddd021f65"
      },
      "outputs": [
        {
          "output_type": "execute_result",
          "data": {
            "text/plain": [
              "EIN                        int64\n",
              "NAME                      object\n",
              "APPLICATION_TYPE          object\n",
              "AFFILIATION               object\n",
              "CLASSIFICATION            object\n",
              "USE_CASE                  object\n",
              "ORGANIZATION              object\n",
              "STATUS                     int64\n",
              "INCOME_AMT                object\n",
              "SPECIAL_CONSIDERATIONS    object\n",
              "ASK_AMT                    int64\n",
              "IS_SUCCESSFUL              int64\n",
              "dtype: object"
            ]
          },
          "metadata": {},
          "execution_count": 3
        }
      ],
      "source": [
        "# Review the data types associated with the columns\n",
        "applicant_data_df.dtypes"
      ]
    },
    {
      "cell_type": "markdown",
      "metadata": {
        "id": "XCwg3ahTURsE"
      },
      "source": [
        "### Step 2: Drop the “EIN” (Employer Identification Number) and “NAME” columns from the DataFrame, because they are not relevant to the binary classification model."
      ]
    },
    {
      "cell_type": "code",
      "execution_count": 4,
      "metadata": {
        "id": "dj7yoYaAURsE",
        "colab": {
          "base_uri": "https://localhost:8080/",
          "height": 505
        },
        "outputId": "1e92226b-8bbe-4cd8-f161-e07cceaf55ac"
      },
      "outputs": [
        {
          "output_type": "execute_result",
          "data": {
            "text/plain": [
              "      APPLICATION_TYPE       AFFILIATION CLASSIFICATION      USE_CASE  \\\n",
              "0                  T10       Independent          C1000    ProductDev   \n",
              "1                   T3       Independent          C2000  Preservation   \n",
              "2                   T5  CompanySponsored          C3000    ProductDev   \n",
              "3                   T3  CompanySponsored          C2000  Preservation   \n",
              "4                   T3       Independent          C1000     Heathcare   \n",
              "...                ...               ...            ...           ...   \n",
              "34294               T4       Independent          C1000    ProductDev   \n",
              "34295               T4  CompanySponsored          C3000    ProductDev   \n",
              "34296               T3  CompanySponsored          C2000  Preservation   \n",
              "34297               T5       Independent          C3000    ProductDev   \n",
              "34298               T3       Independent          C1000  Preservation   \n",
              "\n",
              "       ORGANIZATION  STATUS     INCOME_AMT SPECIAL_CONSIDERATIONS   ASK_AMT  \\\n",
              "0       Association       1              0                      N      5000   \n",
              "1      Co-operative       1         1-9999                      N    108590   \n",
              "2       Association       1              0                      N      5000   \n",
              "3             Trust       1    10000-24999                      N      6692   \n",
              "4             Trust       1  100000-499999                      N    142590   \n",
              "...             ...     ...            ...                    ...       ...   \n",
              "34294   Association       1              0                      N      5000   \n",
              "34295   Association       1              0                      N      5000   \n",
              "34296   Association       1              0                      N      5000   \n",
              "34297   Association       1              0                      N      5000   \n",
              "34298  Co-operative       1          1M-5M                      N  36500179   \n",
              "\n",
              "       IS_SUCCESSFUL  \n",
              "0                  1  \n",
              "1                  1  \n",
              "2                  0  \n",
              "3                  1  \n",
              "4                  1  \n",
              "...              ...  \n",
              "34294              0  \n",
              "34295              0  \n",
              "34296              0  \n",
              "34297              1  \n",
              "34298              0  \n",
              "\n",
              "[34299 rows x 10 columns]"
            ],
            "text/html": [
              "\n",
              "  <div id=\"df-6c8cc1e8-4095-4623-8271-13ecd851e48d\">\n",
              "    <div class=\"colab-df-container\">\n",
              "      <div>\n",
              "<style scoped>\n",
              "    .dataframe tbody tr th:only-of-type {\n",
              "        vertical-align: middle;\n",
              "    }\n",
              "\n",
              "    .dataframe tbody tr th {\n",
              "        vertical-align: top;\n",
              "    }\n",
              "\n",
              "    .dataframe thead th {\n",
              "        text-align: right;\n",
              "    }\n",
              "</style>\n",
              "<table border=\"1\" class=\"dataframe\">\n",
              "  <thead>\n",
              "    <tr style=\"text-align: right;\">\n",
              "      <th></th>\n",
              "      <th>APPLICATION_TYPE</th>\n",
              "      <th>AFFILIATION</th>\n",
              "      <th>CLASSIFICATION</th>\n",
              "      <th>USE_CASE</th>\n",
              "      <th>ORGANIZATION</th>\n",
              "      <th>STATUS</th>\n",
              "      <th>INCOME_AMT</th>\n",
              "      <th>SPECIAL_CONSIDERATIONS</th>\n",
              "      <th>ASK_AMT</th>\n",
              "      <th>IS_SUCCESSFUL</th>\n",
              "    </tr>\n",
              "  </thead>\n",
              "  <tbody>\n",
              "    <tr>\n",
              "      <th>0</th>\n",
              "      <td>T10</td>\n",
              "      <td>Independent</td>\n",
              "      <td>C1000</td>\n",
              "      <td>ProductDev</td>\n",
              "      <td>Association</td>\n",
              "      <td>1</td>\n",
              "      <td>0</td>\n",
              "      <td>N</td>\n",
              "      <td>5000</td>\n",
              "      <td>1</td>\n",
              "    </tr>\n",
              "    <tr>\n",
              "      <th>1</th>\n",
              "      <td>T3</td>\n",
              "      <td>Independent</td>\n",
              "      <td>C2000</td>\n",
              "      <td>Preservation</td>\n",
              "      <td>Co-operative</td>\n",
              "      <td>1</td>\n",
              "      <td>1-9999</td>\n",
              "      <td>N</td>\n",
              "      <td>108590</td>\n",
              "      <td>1</td>\n",
              "    </tr>\n",
              "    <tr>\n",
              "      <th>2</th>\n",
              "      <td>T5</td>\n",
              "      <td>CompanySponsored</td>\n",
              "      <td>C3000</td>\n",
              "      <td>ProductDev</td>\n",
              "      <td>Association</td>\n",
              "      <td>1</td>\n",
              "      <td>0</td>\n",
              "      <td>N</td>\n",
              "      <td>5000</td>\n",
              "      <td>0</td>\n",
              "    </tr>\n",
              "    <tr>\n",
              "      <th>3</th>\n",
              "      <td>T3</td>\n",
              "      <td>CompanySponsored</td>\n",
              "      <td>C2000</td>\n",
              "      <td>Preservation</td>\n",
              "      <td>Trust</td>\n",
              "      <td>1</td>\n",
              "      <td>10000-24999</td>\n",
              "      <td>N</td>\n",
              "      <td>6692</td>\n",
              "      <td>1</td>\n",
              "    </tr>\n",
              "    <tr>\n",
              "      <th>4</th>\n",
              "      <td>T3</td>\n",
              "      <td>Independent</td>\n",
              "      <td>C1000</td>\n",
              "      <td>Heathcare</td>\n",
              "      <td>Trust</td>\n",
              "      <td>1</td>\n",
              "      <td>100000-499999</td>\n",
              "      <td>N</td>\n",
              "      <td>142590</td>\n",
              "      <td>1</td>\n",
              "    </tr>\n",
              "    <tr>\n",
              "      <th>...</th>\n",
              "      <td>...</td>\n",
              "      <td>...</td>\n",
              "      <td>...</td>\n",
              "      <td>...</td>\n",
              "      <td>...</td>\n",
              "      <td>...</td>\n",
              "      <td>...</td>\n",
              "      <td>...</td>\n",
              "      <td>...</td>\n",
              "      <td>...</td>\n",
              "    </tr>\n",
              "    <tr>\n",
              "      <th>34294</th>\n",
              "      <td>T4</td>\n",
              "      <td>Independent</td>\n",
              "      <td>C1000</td>\n",
              "      <td>ProductDev</td>\n",
              "      <td>Association</td>\n",
              "      <td>1</td>\n",
              "      <td>0</td>\n",
              "      <td>N</td>\n",
              "      <td>5000</td>\n",
              "      <td>0</td>\n",
              "    </tr>\n",
              "    <tr>\n",
              "      <th>34295</th>\n",
              "      <td>T4</td>\n",
              "      <td>CompanySponsored</td>\n",
              "      <td>C3000</td>\n",
              "      <td>ProductDev</td>\n",
              "      <td>Association</td>\n",
              "      <td>1</td>\n",
              "      <td>0</td>\n",
              "      <td>N</td>\n",
              "      <td>5000</td>\n",
              "      <td>0</td>\n",
              "    </tr>\n",
              "    <tr>\n",
              "      <th>34296</th>\n",
              "      <td>T3</td>\n",
              "      <td>CompanySponsored</td>\n",
              "      <td>C2000</td>\n",
              "      <td>Preservation</td>\n",
              "      <td>Association</td>\n",
              "      <td>1</td>\n",
              "      <td>0</td>\n",
              "      <td>N</td>\n",
              "      <td>5000</td>\n",
              "      <td>0</td>\n",
              "    </tr>\n",
              "    <tr>\n",
              "      <th>34297</th>\n",
              "      <td>T5</td>\n",
              "      <td>Independent</td>\n",
              "      <td>C3000</td>\n",
              "      <td>ProductDev</td>\n",
              "      <td>Association</td>\n",
              "      <td>1</td>\n",
              "      <td>0</td>\n",
              "      <td>N</td>\n",
              "      <td>5000</td>\n",
              "      <td>1</td>\n",
              "    </tr>\n",
              "    <tr>\n",
              "      <th>34298</th>\n",
              "      <td>T3</td>\n",
              "      <td>Independent</td>\n",
              "      <td>C1000</td>\n",
              "      <td>Preservation</td>\n",
              "      <td>Co-operative</td>\n",
              "      <td>1</td>\n",
              "      <td>1M-5M</td>\n",
              "      <td>N</td>\n",
              "      <td>36500179</td>\n",
              "      <td>0</td>\n",
              "    </tr>\n",
              "  </tbody>\n",
              "</table>\n",
              "<p>34299 rows × 10 columns</p>\n",
              "</div>\n",
              "      <button class=\"colab-df-convert\" onclick=\"convertToInteractive('df-6c8cc1e8-4095-4623-8271-13ecd851e48d')\"\n",
              "              title=\"Convert this dataframe to an interactive table.\"\n",
              "              style=\"display:none;\">\n",
              "        \n",
              "  <svg xmlns=\"http://www.w3.org/2000/svg\" height=\"24px\"viewBox=\"0 0 24 24\"\n",
              "       width=\"24px\">\n",
              "    <path d=\"M0 0h24v24H0V0z\" fill=\"none\"/>\n",
              "    <path d=\"M18.56 5.44l.94 2.06.94-2.06 2.06-.94-2.06-.94-.94-2.06-.94 2.06-2.06.94zm-11 1L8.5 8.5l.94-2.06 2.06-.94-2.06-.94L8.5 2.5l-.94 2.06-2.06.94zm10 10l.94 2.06.94-2.06 2.06-.94-2.06-.94-.94-2.06-.94 2.06-2.06.94z\"/><path d=\"M17.41 7.96l-1.37-1.37c-.4-.4-.92-.59-1.43-.59-.52 0-1.04.2-1.43.59L10.3 9.45l-7.72 7.72c-.78.78-.78 2.05 0 2.83L4 21.41c.39.39.9.59 1.41.59.51 0 1.02-.2 1.41-.59l7.78-7.78 2.81-2.81c.8-.78.8-2.07 0-2.86zM5.41 20L4 18.59l7.72-7.72 1.47 1.35L5.41 20z\"/>\n",
              "  </svg>\n",
              "      </button>\n",
              "      \n",
              "  <style>\n",
              "    .colab-df-container {\n",
              "      display:flex;\n",
              "      flex-wrap:wrap;\n",
              "      gap: 12px;\n",
              "    }\n",
              "\n",
              "    .colab-df-convert {\n",
              "      background-color: #E8F0FE;\n",
              "      border: none;\n",
              "      border-radius: 50%;\n",
              "      cursor: pointer;\n",
              "      display: none;\n",
              "      fill: #1967D2;\n",
              "      height: 32px;\n",
              "      padding: 0 0 0 0;\n",
              "      width: 32px;\n",
              "    }\n",
              "\n",
              "    .colab-df-convert:hover {\n",
              "      background-color: #E2EBFA;\n",
              "      box-shadow: 0px 1px 2px rgba(60, 64, 67, 0.3), 0px 1px 3px 1px rgba(60, 64, 67, 0.15);\n",
              "      fill: #174EA6;\n",
              "    }\n",
              "\n",
              "    [theme=dark] .colab-df-convert {\n",
              "      background-color: #3B4455;\n",
              "      fill: #D2E3FC;\n",
              "    }\n",
              "\n",
              "    [theme=dark] .colab-df-convert:hover {\n",
              "      background-color: #434B5C;\n",
              "      box-shadow: 0px 1px 3px 1px rgba(0, 0, 0, 0.15);\n",
              "      filter: drop-shadow(0px 1px 2px rgba(0, 0, 0, 0.3));\n",
              "      fill: #FFFFFF;\n",
              "    }\n",
              "  </style>\n",
              "\n",
              "      <script>\n",
              "        const buttonEl =\n",
              "          document.querySelector('#df-6c8cc1e8-4095-4623-8271-13ecd851e48d button.colab-df-convert');\n",
              "        buttonEl.style.display =\n",
              "          google.colab.kernel.accessAllowed ? 'block' : 'none';\n",
              "\n",
              "        async function convertToInteractive(key) {\n",
              "          const element = document.querySelector('#df-6c8cc1e8-4095-4623-8271-13ecd851e48d');\n",
              "          const dataTable =\n",
              "            await google.colab.kernel.invokeFunction('convertToInteractive',\n",
              "                                                     [key], {});\n",
              "          if (!dataTable) return;\n",
              "\n",
              "          const docLinkHtml = 'Like what you see? Visit the ' +\n",
              "            '<a target=\"_blank\" href=https://colab.research.google.com/notebooks/data_table.ipynb>data table notebook</a>'\n",
              "            + ' to learn more about interactive tables.';\n",
              "          element.innerHTML = '';\n",
              "          dataTable['output_type'] = 'display_data';\n",
              "          await google.colab.output.renderOutput(dataTable, element);\n",
              "          const docLink = document.createElement('div');\n",
              "          docLink.innerHTML = docLinkHtml;\n",
              "          element.appendChild(docLink);\n",
              "        }\n",
              "      </script>\n",
              "    </div>\n",
              "  </div>\n",
              "  "
            ]
          },
          "metadata": {},
          "execution_count": 4
        }
      ],
      "source": [
        "# Drop the 'EIN' and 'NAME' columns from the DataFrame\n",
        "applicant_data_df = applicant_data_df.drop(columns=[\"EIN\", \"NAME\"]).copy()\n",
        "\n",
        "# Review the DataFrame\n",
        "applicant_data_df"
      ]
    },
    {
      "cell_type": "markdown",
      "metadata": {
        "id": "WFF35NwZURsF"
      },
      "source": [
        "### Step 3: Encode the dataset’s categorical variables using `OneHotEncoder`, and then place the encoded variables into a new DataFrame."
      ]
    },
    {
      "cell_type": "code",
      "execution_count": 5,
      "metadata": {
        "id": "aHv_okM7URsF",
        "colab": {
          "base_uri": "https://localhost:8080/",
          "height": 142
        },
        "outputId": "2dba7b60-062b-432f-c46e-6fb4e38af562"
      },
      "outputs": [
        {
          "output_type": "display_data",
          "data": {
            "text/plain": [
              "['APPLICATION_TYPE',\n",
              " 'AFFILIATION',\n",
              " 'CLASSIFICATION',\n",
              " 'USE_CASE',\n",
              " 'ORGANIZATION',\n",
              " 'INCOME_AMT',\n",
              " 'SPECIAL_CONSIDERATIONS']"
            ]
          },
          "metadata": {}
        }
      ],
      "source": [
        "# Create a list of categorical variables \n",
        "categorical_variables = list(applicant_data_df.dtypes[applicant_data_df.dtypes == \"object\"].index)\n",
        "\n",
        "# Display the categorical variables list\n",
        "display(categorical_variables)"
      ]
    },
    {
      "cell_type": "code",
      "source": [
        "from sklearn.preprocessing import OneHotEncoder"
      ],
      "metadata": {
        "id": "Pun2zWXDxCjh"
      },
      "execution_count": 6,
      "outputs": []
    },
    {
      "cell_type": "code",
      "execution_count": 7,
      "metadata": {
        "id": "IizC83_xURsF"
      },
      "outputs": [],
      "source": [
        "# Create a OneHotEncoder instance\n",
        "enc = OneHotEncoder(sparse=False)"
      ]
    },
    {
      "cell_type": "code",
      "execution_count": 8,
      "metadata": {
        "id": "fLUlCo48URsF"
      },
      "outputs": [],
      "source": [
        "# Encode the categorcal variables using OneHotEncoder\n",
        "encoded_data = enc.fit_transform(applicant_data_df[categorical_variables])"
      ]
    },
    {
      "cell_type": "code",
      "execution_count": 9,
      "metadata": {
        "id": "Bj-Hc08qURsF",
        "colab": {
          "base_uri": "https://localhost:8080/",
          "height": 353
        },
        "outputId": "0066feea-32fd-4877-fea5-f19487c4520a"
      },
      "outputs": [
        {
          "output_type": "stream",
          "name": "stderr",
          "text": [
            "/usr/local/lib/python3.7/dist-packages/sklearn/utils/deprecation.py:87: FutureWarning: Function get_feature_names is deprecated; get_feature_names is deprecated in 1.0 and will be removed in 1.2. Please use get_feature_names_out instead.\n",
            "  warnings.warn(msg, category=FutureWarning)\n"
          ]
        },
        {
          "output_type": "execute_result",
          "data": {
            "text/plain": [
              "   APPLICATION_TYPE_T10  APPLICATION_TYPE_T12  APPLICATION_TYPE_T13  \\\n",
              "0                   1.0                   0.0                   0.0   \n",
              "1                   0.0                   0.0                   0.0   \n",
              "2                   0.0                   0.0                   0.0   \n",
              "3                   0.0                   0.0                   0.0   \n",
              "4                   0.0                   0.0                   0.0   \n",
              "\n",
              "   APPLICATION_TYPE_T14  APPLICATION_TYPE_T15  APPLICATION_TYPE_T17  \\\n",
              "0                   0.0                   0.0                   0.0   \n",
              "1                   0.0                   0.0                   0.0   \n",
              "2                   0.0                   0.0                   0.0   \n",
              "3                   0.0                   0.0                   0.0   \n",
              "4                   0.0                   0.0                   0.0   \n",
              "\n",
              "   APPLICATION_TYPE_T19  APPLICATION_TYPE_T2  APPLICATION_TYPE_T25  \\\n",
              "0                   0.0                  0.0                   0.0   \n",
              "1                   0.0                  0.0                   0.0   \n",
              "2                   0.0                  0.0                   0.0   \n",
              "3                   0.0                  0.0                   0.0   \n",
              "4                   0.0                  0.0                   0.0   \n",
              "\n",
              "   APPLICATION_TYPE_T29  ...  INCOME_AMT_1-9999  INCOME_AMT_10000-24999  \\\n",
              "0                   0.0  ...                0.0                     0.0   \n",
              "1                   0.0  ...                1.0                     0.0   \n",
              "2                   0.0  ...                0.0                     0.0   \n",
              "3                   0.0  ...                0.0                     1.0   \n",
              "4                   0.0  ...                0.0                     0.0   \n",
              "\n",
              "   INCOME_AMT_100000-499999  INCOME_AMT_10M-50M  INCOME_AMT_1M-5M  \\\n",
              "0                       0.0                 0.0               0.0   \n",
              "1                       0.0                 0.0               0.0   \n",
              "2                       0.0                 0.0               0.0   \n",
              "3                       0.0                 0.0               0.0   \n",
              "4                       1.0                 0.0               0.0   \n",
              "\n",
              "   INCOME_AMT_25000-99999  INCOME_AMT_50M+  INCOME_AMT_5M-10M  \\\n",
              "0                     0.0              0.0                0.0   \n",
              "1                     0.0              0.0                0.0   \n",
              "2                     0.0              0.0                0.0   \n",
              "3                     0.0              0.0                0.0   \n",
              "4                     0.0              0.0                0.0   \n",
              "\n",
              "   SPECIAL_CONSIDERATIONS_N  SPECIAL_CONSIDERATIONS_Y  \n",
              "0                       1.0                       0.0  \n",
              "1                       1.0                       0.0  \n",
              "2                       1.0                       0.0  \n",
              "3                       1.0                       0.0  \n",
              "4                       1.0                       0.0  \n",
              "\n",
              "[5 rows x 114 columns]"
            ],
            "text/html": [
              "\n",
              "  <div id=\"df-f75197d9-07a8-4226-a04b-6451218c3714\">\n",
              "    <div class=\"colab-df-container\">\n",
              "      <div>\n",
              "<style scoped>\n",
              "    .dataframe tbody tr th:only-of-type {\n",
              "        vertical-align: middle;\n",
              "    }\n",
              "\n",
              "    .dataframe tbody tr th {\n",
              "        vertical-align: top;\n",
              "    }\n",
              "\n",
              "    .dataframe thead th {\n",
              "        text-align: right;\n",
              "    }\n",
              "</style>\n",
              "<table border=\"1\" class=\"dataframe\">\n",
              "  <thead>\n",
              "    <tr style=\"text-align: right;\">\n",
              "      <th></th>\n",
              "      <th>APPLICATION_TYPE_T10</th>\n",
              "      <th>APPLICATION_TYPE_T12</th>\n",
              "      <th>APPLICATION_TYPE_T13</th>\n",
              "      <th>APPLICATION_TYPE_T14</th>\n",
              "      <th>APPLICATION_TYPE_T15</th>\n",
              "      <th>APPLICATION_TYPE_T17</th>\n",
              "      <th>APPLICATION_TYPE_T19</th>\n",
              "      <th>APPLICATION_TYPE_T2</th>\n",
              "      <th>APPLICATION_TYPE_T25</th>\n",
              "      <th>APPLICATION_TYPE_T29</th>\n",
              "      <th>...</th>\n",
              "      <th>INCOME_AMT_1-9999</th>\n",
              "      <th>INCOME_AMT_10000-24999</th>\n",
              "      <th>INCOME_AMT_100000-499999</th>\n",
              "      <th>INCOME_AMT_10M-50M</th>\n",
              "      <th>INCOME_AMT_1M-5M</th>\n",
              "      <th>INCOME_AMT_25000-99999</th>\n",
              "      <th>INCOME_AMT_50M+</th>\n",
              "      <th>INCOME_AMT_5M-10M</th>\n",
              "      <th>SPECIAL_CONSIDERATIONS_N</th>\n",
              "      <th>SPECIAL_CONSIDERATIONS_Y</th>\n",
              "    </tr>\n",
              "  </thead>\n",
              "  <tbody>\n",
              "    <tr>\n",
              "      <th>0</th>\n",
              "      <td>1.0</td>\n",
              "      <td>0.0</td>\n",
              "      <td>0.0</td>\n",
              "      <td>0.0</td>\n",
              "      <td>0.0</td>\n",
              "      <td>0.0</td>\n",
              "      <td>0.0</td>\n",
              "      <td>0.0</td>\n",
              "      <td>0.0</td>\n",
              "      <td>0.0</td>\n",
              "      <td>...</td>\n",
              "      <td>0.0</td>\n",
              "      <td>0.0</td>\n",
              "      <td>0.0</td>\n",
              "      <td>0.0</td>\n",
              "      <td>0.0</td>\n",
              "      <td>0.0</td>\n",
              "      <td>0.0</td>\n",
              "      <td>0.0</td>\n",
              "      <td>1.0</td>\n",
              "      <td>0.0</td>\n",
              "    </tr>\n",
              "    <tr>\n",
              "      <th>1</th>\n",
              "      <td>0.0</td>\n",
              "      <td>0.0</td>\n",
              "      <td>0.0</td>\n",
              "      <td>0.0</td>\n",
              "      <td>0.0</td>\n",
              "      <td>0.0</td>\n",
              "      <td>0.0</td>\n",
              "      <td>0.0</td>\n",
              "      <td>0.0</td>\n",
              "      <td>0.0</td>\n",
              "      <td>...</td>\n",
              "      <td>1.0</td>\n",
              "      <td>0.0</td>\n",
              "      <td>0.0</td>\n",
              "      <td>0.0</td>\n",
              "      <td>0.0</td>\n",
              "      <td>0.0</td>\n",
              "      <td>0.0</td>\n",
              "      <td>0.0</td>\n",
              "      <td>1.0</td>\n",
              "      <td>0.0</td>\n",
              "    </tr>\n",
              "    <tr>\n",
              "      <th>2</th>\n",
              "      <td>0.0</td>\n",
              "      <td>0.0</td>\n",
              "      <td>0.0</td>\n",
              "      <td>0.0</td>\n",
              "      <td>0.0</td>\n",
              "      <td>0.0</td>\n",
              "      <td>0.0</td>\n",
              "      <td>0.0</td>\n",
              "      <td>0.0</td>\n",
              "      <td>0.0</td>\n",
              "      <td>...</td>\n",
              "      <td>0.0</td>\n",
              "      <td>0.0</td>\n",
              "      <td>0.0</td>\n",
              "      <td>0.0</td>\n",
              "      <td>0.0</td>\n",
              "      <td>0.0</td>\n",
              "      <td>0.0</td>\n",
              "      <td>0.0</td>\n",
              "      <td>1.0</td>\n",
              "      <td>0.0</td>\n",
              "    </tr>\n",
              "    <tr>\n",
              "      <th>3</th>\n",
              "      <td>0.0</td>\n",
              "      <td>0.0</td>\n",
              "      <td>0.0</td>\n",
              "      <td>0.0</td>\n",
              "      <td>0.0</td>\n",
              "      <td>0.0</td>\n",
              "      <td>0.0</td>\n",
              "      <td>0.0</td>\n",
              "      <td>0.0</td>\n",
              "      <td>0.0</td>\n",
              "      <td>...</td>\n",
              "      <td>0.0</td>\n",
              "      <td>1.0</td>\n",
              "      <td>0.0</td>\n",
              "      <td>0.0</td>\n",
              "      <td>0.0</td>\n",
              "      <td>0.0</td>\n",
              "      <td>0.0</td>\n",
              "      <td>0.0</td>\n",
              "      <td>1.0</td>\n",
              "      <td>0.0</td>\n",
              "    </tr>\n",
              "    <tr>\n",
              "      <th>4</th>\n",
              "      <td>0.0</td>\n",
              "      <td>0.0</td>\n",
              "      <td>0.0</td>\n",
              "      <td>0.0</td>\n",
              "      <td>0.0</td>\n",
              "      <td>0.0</td>\n",
              "      <td>0.0</td>\n",
              "      <td>0.0</td>\n",
              "      <td>0.0</td>\n",
              "      <td>0.0</td>\n",
              "      <td>...</td>\n",
              "      <td>0.0</td>\n",
              "      <td>0.0</td>\n",
              "      <td>1.0</td>\n",
              "      <td>0.0</td>\n",
              "      <td>0.0</td>\n",
              "      <td>0.0</td>\n",
              "      <td>0.0</td>\n",
              "      <td>0.0</td>\n",
              "      <td>1.0</td>\n",
              "      <td>0.0</td>\n",
              "    </tr>\n",
              "  </tbody>\n",
              "</table>\n",
              "<p>5 rows × 114 columns</p>\n",
              "</div>\n",
              "      <button class=\"colab-df-convert\" onclick=\"convertToInteractive('df-f75197d9-07a8-4226-a04b-6451218c3714')\"\n",
              "              title=\"Convert this dataframe to an interactive table.\"\n",
              "              style=\"display:none;\">\n",
              "        \n",
              "  <svg xmlns=\"http://www.w3.org/2000/svg\" height=\"24px\"viewBox=\"0 0 24 24\"\n",
              "       width=\"24px\">\n",
              "    <path d=\"M0 0h24v24H0V0z\" fill=\"none\"/>\n",
              "    <path d=\"M18.56 5.44l.94 2.06.94-2.06 2.06-.94-2.06-.94-.94-2.06-.94 2.06-2.06.94zm-11 1L8.5 8.5l.94-2.06 2.06-.94-2.06-.94L8.5 2.5l-.94 2.06-2.06.94zm10 10l.94 2.06.94-2.06 2.06-.94-2.06-.94-.94-2.06-.94 2.06-2.06.94z\"/><path d=\"M17.41 7.96l-1.37-1.37c-.4-.4-.92-.59-1.43-.59-.52 0-1.04.2-1.43.59L10.3 9.45l-7.72 7.72c-.78.78-.78 2.05 0 2.83L4 21.41c.39.39.9.59 1.41.59.51 0 1.02-.2 1.41-.59l7.78-7.78 2.81-2.81c.8-.78.8-2.07 0-2.86zM5.41 20L4 18.59l7.72-7.72 1.47 1.35L5.41 20z\"/>\n",
              "  </svg>\n",
              "      </button>\n",
              "      \n",
              "  <style>\n",
              "    .colab-df-container {\n",
              "      display:flex;\n",
              "      flex-wrap:wrap;\n",
              "      gap: 12px;\n",
              "    }\n",
              "\n",
              "    .colab-df-convert {\n",
              "      background-color: #E8F0FE;\n",
              "      border: none;\n",
              "      border-radius: 50%;\n",
              "      cursor: pointer;\n",
              "      display: none;\n",
              "      fill: #1967D2;\n",
              "      height: 32px;\n",
              "      padding: 0 0 0 0;\n",
              "      width: 32px;\n",
              "    }\n",
              "\n",
              "    .colab-df-convert:hover {\n",
              "      background-color: #E2EBFA;\n",
              "      box-shadow: 0px 1px 2px rgba(60, 64, 67, 0.3), 0px 1px 3px 1px rgba(60, 64, 67, 0.15);\n",
              "      fill: #174EA6;\n",
              "    }\n",
              "\n",
              "    [theme=dark] .colab-df-convert {\n",
              "      background-color: #3B4455;\n",
              "      fill: #D2E3FC;\n",
              "    }\n",
              "\n",
              "    [theme=dark] .colab-df-convert:hover {\n",
              "      background-color: #434B5C;\n",
              "      box-shadow: 0px 1px 3px 1px rgba(0, 0, 0, 0.15);\n",
              "      filter: drop-shadow(0px 1px 2px rgba(0, 0, 0, 0.3));\n",
              "      fill: #FFFFFF;\n",
              "    }\n",
              "  </style>\n",
              "\n",
              "      <script>\n",
              "        const buttonEl =\n",
              "          document.querySelector('#df-f75197d9-07a8-4226-a04b-6451218c3714 button.colab-df-convert');\n",
              "        buttonEl.style.display =\n",
              "          google.colab.kernel.accessAllowed ? 'block' : 'none';\n",
              "\n",
              "        async function convertToInteractive(key) {\n",
              "          const element = document.querySelector('#df-f75197d9-07a8-4226-a04b-6451218c3714');\n",
              "          const dataTable =\n",
              "            await google.colab.kernel.invokeFunction('convertToInteractive',\n",
              "                                                     [key], {});\n",
              "          if (!dataTable) return;\n",
              "\n",
              "          const docLinkHtml = 'Like what you see? Visit the ' +\n",
              "            '<a target=\"_blank\" href=https://colab.research.google.com/notebooks/data_table.ipynb>data table notebook</a>'\n",
              "            + ' to learn more about interactive tables.';\n",
              "          element.innerHTML = '';\n",
              "          dataTable['output_type'] = 'display_data';\n",
              "          await google.colab.output.renderOutput(dataTable, element);\n",
              "          const docLink = document.createElement('div');\n",
              "          docLink.innerHTML = docLinkHtml;\n",
              "          element.appendChild(docLink);\n",
              "        }\n",
              "      </script>\n",
              "    </div>\n",
              "  </div>\n",
              "  "
            ]
          },
          "metadata": {},
          "execution_count": 9
        }
      ],
      "source": [
        "# Create a DataFrame with the encoded variables\n",
        "encoded_df = pd.DataFrame(\n",
        "    encoded_data,\n",
        "    columns = enc.get_feature_names(categorical_variables)\n",
        ")\n",
        "# Review the DataFrame\n",
        "encoded_df.head()"
      ]
    },
    {
      "cell_type": "markdown",
      "metadata": {
        "id": "A8Bd0AQTURsF"
      },
      "source": [
        "### Step 4: Add the original DataFrame’s numerical variables to the DataFrame containing the encoded variables.\n",
        "\n",
        "> **Note** To complete this step, you will employ the Pandas `concat()` function that was introduced earlier in this course. "
      ]
    },
    {
      "cell_type": "code",
      "execution_count": 10,
      "metadata": {
        "id": "r43_PQpFURsG",
        "colab": {
          "base_uri": "https://localhost:8080/",
          "height": 317
        },
        "outputId": "16736c4d-d6f8-4230-a17c-0ede23307d8f"
      },
      "outputs": [
        {
          "output_type": "execute_result",
          "data": {
            "text/plain": [
              "   STATUS  ASK_AMT  IS_SUCCESSFUL  APPLICATION_TYPE_T10  APPLICATION_TYPE_T12  \\\n",
              "0       1     5000              1                   1.0                   0.0   \n",
              "1       1   108590              1                   0.0                   0.0   \n",
              "2       1     5000              0                   0.0                   0.0   \n",
              "3       1     6692              1                   0.0                   0.0   \n",
              "4       1   142590              1                   0.0                   0.0   \n",
              "\n",
              "   APPLICATION_TYPE_T13  APPLICATION_TYPE_T14  APPLICATION_TYPE_T15  \\\n",
              "0                   0.0                   0.0                   0.0   \n",
              "1                   0.0                   0.0                   0.0   \n",
              "2                   0.0                   0.0                   0.0   \n",
              "3                   0.0                   0.0                   0.0   \n",
              "4                   0.0                   0.0                   0.0   \n",
              "\n",
              "   APPLICATION_TYPE_T17  APPLICATION_TYPE_T19  ...  INCOME_AMT_1-9999  \\\n",
              "0                   0.0                   0.0  ...                0.0   \n",
              "1                   0.0                   0.0  ...                1.0   \n",
              "2                   0.0                   0.0  ...                0.0   \n",
              "3                   0.0                   0.0  ...                0.0   \n",
              "4                   0.0                   0.0  ...                0.0   \n",
              "\n",
              "   INCOME_AMT_10000-24999  INCOME_AMT_100000-499999  INCOME_AMT_10M-50M  \\\n",
              "0                     0.0                       0.0                 0.0   \n",
              "1                     0.0                       0.0                 0.0   \n",
              "2                     0.0                       0.0                 0.0   \n",
              "3                     1.0                       0.0                 0.0   \n",
              "4                     0.0                       1.0                 0.0   \n",
              "\n",
              "   INCOME_AMT_1M-5M  INCOME_AMT_25000-99999  INCOME_AMT_50M+  \\\n",
              "0               0.0                     0.0              0.0   \n",
              "1               0.0                     0.0              0.0   \n",
              "2               0.0                     0.0              0.0   \n",
              "3               0.0                     0.0              0.0   \n",
              "4               0.0                     0.0              0.0   \n",
              "\n",
              "   INCOME_AMT_5M-10M  SPECIAL_CONSIDERATIONS_N  SPECIAL_CONSIDERATIONS_Y  \n",
              "0                0.0                       1.0                       0.0  \n",
              "1                0.0                       1.0                       0.0  \n",
              "2                0.0                       1.0                       0.0  \n",
              "3                0.0                       1.0                       0.0  \n",
              "4                0.0                       1.0                       0.0  \n",
              "\n",
              "[5 rows x 117 columns]"
            ],
            "text/html": [
              "\n",
              "  <div id=\"df-685da8bf-25db-4b2d-8518-edf7ccd7c37b\">\n",
              "    <div class=\"colab-df-container\">\n",
              "      <div>\n",
              "<style scoped>\n",
              "    .dataframe tbody tr th:only-of-type {\n",
              "        vertical-align: middle;\n",
              "    }\n",
              "\n",
              "    .dataframe tbody tr th {\n",
              "        vertical-align: top;\n",
              "    }\n",
              "\n",
              "    .dataframe thead th {\n",
              "        text-align: right;\n",
              "    }\n",
              "</style>\n",
              "<table border=\"1\" class=\"dataframe\">\n",
              "  <thead>\n",
              "    <tr style=\"text-align: right;\">\n",
              "      <th></th>\n",
              "      <th>STATUS</th>\n",
              "      <th>ASK_AMT</th>\n",
              "      <th>IS_SUCCESSFUL</th>\n",
              "      <th>APPLICATION_TYPE_T10</th>\n",
              "      <th>APPLICATION_TYPE_T12</th>\n",
              "      <th>APPLICATION_TYPE_T13</th>\n",
              "      <th>APPLICATION_TYPE_T14</th>\n",
              "      <th>APPLICATION_TYPE_T15</th>\n",
              "      <th>APPLICATION_TYPE_T17</th>\n",
              "      <th>APPLICATION_TYPE_T19</th>\n",
              "      <th>...</th>\n",
              "      <th>INCOME_AMT_1-9999</th>\n",
              "      <th>INCOME_AMT_10000-24999</th>\n",
              "      <th>INCOME_AMT_100000-499999</th>\n",
              "      <th>INCOME_AMT_10M-50M</th>\n",
              "      <th>INCOME_AMT_1M-5M</th>\n",
              "      <th>INCOME_AMT_25000-99999</th>\n",
              "      <th>INCOME_AMT_50M+</th>\n",
              "      <th>INCOME_AMT_5M-10M</th>\n",
              "      <th>SPECIAL_CONSIDERATIONS_N</th>\n",
              "      <th>SPECIAL_CONSIDERATIONS_Y</th>\n",
              "    </tr>\n",
              "  </thead>\n",
              "  <tbody>\n",
              "    <tr>\n",
              "      <th>0</th>\n",
              "      <td>1</td>\n",
              "      <td>5000</td>\n",
              "      <td>1</td>\n",
              "      <td>1.0</td>\n",
              "      <td>0.0</td>\n",
              "      <td>0.0</td>\n",
              "      <td>0.0</td>\n",
              "      <td>0.0</td>\n",
              "      <td>0.0</td>\n",
              "      <td>0.0</td>\n",
              "      <td>...</td>\n",
              "      <td>0.0</td>\n",
              "      <td>0.0</td>\n",
              "      <td>0.0</td>\n",
              "      <td>0.0</td>\n",
              "      <td>0.0</td>\n",
              "      <td>0.0</td>\n",
              "      <td>0.0</td>\n",
              "      <td>0.0</td>\n",
              "      <td>1.0</td>\n",
              "      <td>0.0</td>\n",
              "    </tr>\n",
              "    <tr>\n",
              "      <th>1</th>\n",
              "      <td>1</td>\n",
              "      <td>108590</td>\n",
              "      <td>1</td>\n",
              "      <td>0.0</td>\n",
              "      <td>0.0</td>\n",
              "      <td>0.0</td>\n",
              "      <td>0.0</td>\n",
              "      <td>0.0</td>\n",
              "      <td>0.0</td>\n",
              "      <td>0.0</td>\n",
              "      <td>...</td>\n",
              "      <td>1.0</td>\n",
              "      <td>0.0</td>\n",
              "      <td>0.0</td>\n",
              "      <td>0.0</td>\n",
              "      <td>0.0</td>\n",
              "      <td>0.0</td>\n",
              "      <td>0.0</td>\n",
              "      <td>0.0</td>\n",
              "      <td>1.0</td>\n",
              "      <td>0.0</td>\n",
              "    </tr>\n",
              "    <tr>\n",
              "      <th>2</th>\n",
              "      <td>1</td>\n",
              "      <td>5000</td>\n",
              "      <td>0</td>\n",
              "      <td>0.0</td>\n",
              "      <td>0.0</td>\n",
              "      <td>0.0</td>\n",
              "      <td>0.0</td>\n",
              "      <td>0.0</td>\n",
              "      <td>0.0</td>\n",
              "      <td>0.0</td>\n",
              "      <td>...</td>\n",
              "      <td>0.0</td>\n",
              "      <td>0.0</td>\n",
              "      <td>0.0</td>\n",
              "      <td>0.0</td>\n",
              "      <td>0.0</td>\n",
              "      <td>0.0</td>\n",
              "      <td>0.0</td>\n",
              "      <td>0.0</td>\n",
              "      <td>1.0</td>\n",
              "      <td>0.0</td>\n",
              "    </tr>\n",
              "    <tr>\n",
              "      <th>3</th>\n",
              "      <td>1</td>\n",
              "      <td>6692</td>\n",
              "      <td>1</td>\n",
              "      <td>0.0</td>\n",
              "      <td>0.0</td>\n",
              "      <td>0.0</td>\n",
              "      <td>0.0</td>\n",
              "      <td>0.0</td>\n",
              "      <td>0.0</td>\n",
              "      <td>0.0</td>\n",
              "      <td>...</td>\n",
              "      <td>0.0</td>\n",
              "      <td>1.0</td>\n",
              "      <td>0.0</td>\n",
              "      <td>0.0</td>\n",
              "      <td>0.0</td>\n",
              "      <td>0.0</td>\n",
              "      <td>0.0</td>\n",
              "      <td>0.0</td>\n",
              "      <td>1.0</td>\n",
              "      <td>0.0</td>\n",
              "    </tr>\n",
              "    <tr>\n",
              "      <th>4</th>\n",
              "      <td>1</td>\n",
              "      <td>142590</td>\n",
              "      <td>1</td>\n",
              "      <td>0.0</td>\n",
              "      <td>0.0</td>\n",
              "      <td>0.0</td>\n",
              "      <td>0.0</td>\n",
              "      <td>0.0</td>\n",
              "      <td>0.0</td>\n",
              "      <td>0.0</td>\n",
              "      <td>...</td>\n",
              "      <td>0.0</td>\n",
              "      <td>0.0</td>\n",
              "      <td>1.0</td>\n",
              "      <td>0.0</td>\n",
              "      <td>0.0</td>\n",
              "      <td>0.0</td>\n",
              "      <td>0.0</td>\n",
              "      <td>0.0</td>\n",
              "      <td>1.0</td>\n",
              "      <td>0.0</td>\n",
              "    </tr>\n",
              "  </tbody>\n",
              "</table>\n",
              "<p>5 rows × 117 columns</p>\n",
              "</div>\n",
              "      <button class=\"colab-df-convert\" onclick=\"convertToInteractive('df-685da8bf-25db-4b2d-8518-edf7ccd7c37b')\"\n",
              "              title=\"Convert this dataframe to an interactive table.\"\n",
              "              style=\"display:none;\">\n",
              "        \n",
              "  <svg xmlns=\"http://www.w3.org/2000/svg\" height=\"24px\"viewBox=\"0 0 24 24\"\n",
              "       width=\"24px\">\n",
              "    <path d=\"M0 0h24v24H0V0z\" fill=\"none\"/>\n",
              "    <path d=\"M18.56 5.44l.94 2.06.94-2.06 2.06-.94-2.06-.94-.94-2.06-.94 2.06-2.06.94zm-11 1L8.5 8.5l.94-2.06 2.06-.94-2.06-.94L8.5 2.5l-.94 2.06-2.06.94zm10 10l.94 2.06.94-2.06 2.06-.94-2.06-.94-.94-2.06-.94 2.06-2.06.94z\"/><path d=\"M17.41 7.96l-1.37-1.37c-.4-.4-.92-.59-1.43-.59-.52 0-1.04.2-1.43.59L10.3 9.45l-7.72 7.72c-.78.78-.78 2.05 0 2.83L4 21.41c.39.39.9.59 1.41.59.51 0 1.02-.2 1.41-.59l7.78-7.78 2.81-2.81c.8-.78.8-2.07 0-2.86zM5.41 20L4 18.59l7.72-7.72 1.47 1.35L5.41 20z\"/>\n",
              "  </svg>\n",
              "      </button>\n",
              "      \n",
              "  <style>\n",
              "    .colab-df-container {\n",
              "      display:flex;\n",
              "      flex-wrap:wrap;\n",
              "      gap: 12px;\n",
              "    }\n",
              "\n",
              "    .colab-df-convert {\n",
              "      background-color: #E8F0FE;\n",
              "      border: none;\n",
              "      border-radius: 50%;\n",
              "      cursor: pointer;\n",
              "      display: none;\n",
              "      fill: #1967D2;\n",
              "      height: 32px;\n",
              "      padding: 0 0 0 0;\n",
              "      width: 32px;\n",
              "    }\n",
              "\n",
              "    .colab-df-convert:hover {\n",
              "      background-color: #E2EBFA;\n",
              "      box-shadow: 0px 1px 2px rgba(60, 64, 67, 0.3), 0px 1px 3px 1px rgba(60, 64, 67, 0.15);\n",
              "      fill: #174EA6;\n",
              "    }\n",
              "\n",
              "    [theme=dark] .colab-df-convert {\n",
              "      background-color: #3B4455;\n",
              "      fill: #D2E3FC;\n",
              "    }\n",
              "\n",
              "    [theme=dark] .colab-df-convert:hover {\n",
              "      background-color: #434B5C;\n",
              "      box-shadow: 0px 1px 3px 1px rgba(0, 0, 0, 0.15);\n",
              "      filter: drop-shadow(0px 1px 2px rgba(0, 0, 0, 0.3));\n",
              "      fill: #FFFFFF;\n",
              "    }\n",
              "  </style>\n",
              "\n",
              "      <script>\n",
              "        const buttonEl =\n",
              "          document.querySelector('#df-685da8bf-25db-4b2d-8518-edf7ccd7c37b button.colab-df-convert');\n",
              "        buttonEl.style.display =\n",
              "          google.colab.kernel.accessAllowed ? 'block' : 'none';\n",
              "\n",
              "        async function convertToInteractive(key) {\n",
              "          const element = document.querySelector('#df-685da8bf-25db-4b2d-8518-edf7ccd7c37b');\n",
              "          const dataTable =\n",
              "            await google.colab.kernel.invokeFunction('convertToInteractive',\n",
              "                                                     [key], {});\n",
              "          if (!dataTable) return;\n",
              "\n",
              "          const docLinkHtml = 'Like what you see? Visit the ' +\n",
              "            '<a target=\"_blank\" href=https://colab.research.google.com/notebooks/data_table.ipynb>data table notebook</a>'\n",
              "            + ' to learn more about interactive tables.';\n",
              "          element.innerHTML = '';\n",
              "          dataTable['output_type'] = 'display_data';\n",
              "          await google.colab.output.renderOutput(dataTable, element);\n",
              "          const docLink = document.createElement('div');\n",
              "          docLink.innerHTML = docLinkHtml;\n",
              "          element.appendChild(docLink);\n",
              "        }\n",
              "      </script>\n",
              "    </div>\n",
              "  </div>\n",
              "  "
            ]
          },
          "metadata": {},
          "execution_count": 10
        }
      ],
      "source": [
        "# Add the numerical variables from the original DataFrame to the one-hot encoding DataFrame\n",
        "encoded_df = pd.concat(\n",
        "    [\n",
        "        applicant_data_df[[\"STATUS\", \"ASK_AMT\", \"IS_SUCCESSFUL\"]],\n",
        "        encoded_df\n",
        "    ],\n",
        "    axis=1\n",
        ")\n",
        "\n",
        "# Review the Dataframe\n",
        "encoded_df.head()"
      ]
    },
    {
      "cell_type": "markdown",
      "metadata": {
        "id": "RJHzn3uyURsG"
      },
      "source": [
        "### Step 5: Using the preprocessed data, create the features (`X`) and target (`y`) datasets. The target dataset should be defined by the preprocessed DataFrame column “IS_SUCCESSFUL”. The remaining columns should define the features dataset. \n",
        "\n"
      ]
    },
    {
      "cell_type": "code",
      "execution_count": 11,
      "metadata": {
        "id": "XpmWKy35URsG",
        "colab": {
          "base_uri": "https://localhost:8080/"
        },
        "outputId": "19a9a1c5-fd91-4dbf-afff-6d9d1a80d5f5"
      },
      "outputs": [
        {
          "output_type": "execute_result",
          "data": {
            "text/plain": [
              "0    1\n",
              "1    1\n",
              "2    0\n",
              "3    1\n",
              "4    1\n",
              "Name: IS_SUCCESSFUL, dtype: int64"
            ]
          },
          "metadata": {},
          "execution_count": 11
        }
      ],
      "source": [
        "# Define the target set y using the IS_SUCCESSFUL column\n",
        "y = encoded_df[\"IS_SUCCESSFUL\"]\n",
        "\n",
        "# Display a sample of y\n",
        "y[:5]"
      ]
    },
    {
      "cell_type": "code",
      "execution_count": 12,
      "metadata": {
        "id": "SzVEfRlaURsG",
        "colab": {
          "base_uri": "https://localhost:8080/",
          "height": 317
        },
        "outputId": "4765d29e-caaf-454b-da0b-4b0dd580eb20"
      },
      "outputs": [
        {
          "output_type": "execute_result",
          "data": {
            "text/plain": [
              "   STATUS  ASK_AMT  APPLICATION_TYPE_T10  APPLICATION_TYPE_T12  \\\n",
              "0       1     5000                   1.0                   0.0   \n",
              "1       1   108590                   0.0                   0.0   \n",
              "2       1     5000                   0.0                   0.0   \n",
              "3       1     6692                   0.0                   0.0   \n",
              "4       1   142590                   0.0                   0.0   \n",
              "\n",
              "   APPLICATION_TYPE_T13  APPLICATION_TYPE_T14  APPLICATION_TYPE_T15  \\\n",
              "0                   0.0                   0.0                   0.0   \n",
              "1                   0.0                   0.0                   0.0   \n",
              "2                   0.0                   0.0                   0.0   \n",
              "3                   0.0                   0.0                   0.0   \n",
              "4                   0.0                   0.0                   0.0   \n",
              "\n",
              "   APPLICATION_TYPE_T17  APPLICATION_TYPE_T19  APPLICATION_TYPE_T2  ...  \\\n",
              "0                   0.0                   0.0                  0.0  ...   \n",
              "1                   0.0                   0.0                  0.0  ...   \n",
              "2                   0.0                   0.0                  0.0  ...   \n",
              "3                   0.0                   0.0                  0.0  ...   \n",
              "4                   0.0                   0.0                  0.0  ...   \n",
              "\n",
              "   INCOME_AMT_1-9999  INCOME_AMT_10000-24999  INCOME_AMT_100000-499999  \\\n",
              "0                0.0                     0.0                       0.0   \n",
              "1                1.0                     0.0                       0.0   \n",
              "2                0.0                     0.0                       0.0   \n",
              "3                0.0                     1.0                       0.0   \n",
              "4                0.0                     0.0                       1.0   \n",
              "\n",
              "   INCOME_AMT_10M-50M  INCOME_AMT_1M-5M  INCOME_AMT_25000-99999  \\\n",
              "0                 0.0               0.0                     0.0   \n",
              "1                 0.0               0.0                     0.0   \n",
              "2                 0.0               0.0                     0.0   \n",
              "3                 0.0               0.0                     0.0   \n",
              "4                 0.0               0.0                     0.0   \n",
              "\n",
              "   INCOME_AMT_50M+  INCOME_AMT_5M-10M  SPECIAL_CONSIDERATIONS_N  \\\n",
              "0              0.0                0.0                       1.0   \n",
              "1              0.0                0.0                       1.0   \n",
              "2              0.0                0.0                       1.0   \n",
              "3              0.0                0.0                       1.0   \n",
              "4              0.0                0.0                       1.0   \n",
              "\n",
              "   SPECIAL_CONSIDERATIONS_Y  \n",
              "0                       0.0  \n",
              "1                       0.0  \n",
              "2                       0.0  \n",
              "3                       0.0  \n",
              "4                       0.0  \n",
              "\n",
              "[5 rows x 116 columns]"
            ],
            "text/html": [
              "\n",
              "  <div id=\"df-3cf3649b-33b0-46a1-92cc-111164592f02\">\n",
              "    <div class=\"colab-df-container\">\n",
              "      <div>\n",
              "<style scoped>\n",
              "    .dataframe tbody tr th:only-of-type {\n",
              "        vertical-align: middle;\n",
              "    }\n",
              "\n",
              "    .dataframe tbody tr th {\n",
              "        vertical-align: top;\n",
              "    }\n",
              "\n",
              "    .dataframe thead th {\n",
              "        text-align: right;\n",
              "    }\n",
              "</style>\n",
              "<table border=\"1\" class=\"dataframe\">\n",
              "  <thead>\n",
              "    <tr style=\"text-align: right;\">\n",
              "      <th></th>\n",
              "      <th>STATUS</th>\n",
              "      <th>ASK_AMT</th>\n",
              "      <th>APPLICATION_TYPE_T10</th>\n",
              "      <th>APPLICATION_TYPE_T12</th>\n",
              "      <th>APPLICATION_TYPE_T13</th>\n",
              "      <th>APPLICATION_TYPE_T14</th>\n",
              "      <th>APPLICATION_TYPE_T15</th>\n",
              "      <th>APPLICATION_TYPE_T17</th>\n",
              "      <th>APPLICATION_TYPE_T19</th>\n",
              "      <th>APPLICATION_TYPE_T2</th>\n",
              "      <th>...</th>\n",
              "      <th>INCOME_AMT_1-9999</th>\n",
              "      <th>INCOME_AMT_10000-24999</th>\n",
              "      <th>INCOME_AMT_100000-499999</th>\n",
              "      <th>INCOME_AMT_10M-50M</th>\n",
              "      <th>INCOME_AMT_1M-5M</th>\n",
              "      <th>INCOME_AMT_25000-99999</th>\n",
              "      <th>INCOME_AMT_50M+</th>\n",
              "      <th>INCOME_AMT_5M-10M</th>\n",
              "      <th>SPECIAL_CONSIDERATIONS_N</th>\n",
              "      <th>SPECIAL_CONSIDERATIONS_Y</th>\n",
              "    </tr>\n",
              "  </thead>\n",
              "  <tbody>\n",
              "    <tr>\n",
              "      <th>0</th>\n",
              "      <td>1</td>\n",
              "      <td>5000</td>\n",
              "      <td>1.0</td>\n",
              "      <td>0.0</td>\n",
              "      <td>0.0</td>\n",
              "      <td>0.0</td>\n",
              "      <td>0.0</td>\n",
              "      <td>0.0</td>\n",
              "      <td>0.0</td>\n",
              "      <td>0.0</td>\n",
              "      <td>...</td>\n",
              "      <td>0.0</td>\n",
              "      <td>0.0</td>\n",
              "      <td>0.0</td>\n",
              "      <td>0.0</td>\n",
              "      <td>0.0</td>\n",
              "      <td>0.0</td>\n",
              "      <td>0.0</td>\n",
              "      <td>0.0</td>\n",
              "      <td>1.0</td>\n",
              "      <td>0.0</td>\n",
              "    </tr>\n",
              "    <tr>\n",
              "      <th>1</th>\n",
              "      <td>1</td>\n",
              "      <td>108590</td>\n",
              "      <td>0.0</td>\n",
              "      <td>0.0</td>\n",
              "      <td>0.0</td>\n",
              "      <td>0.0</td>\n",
              "      <td>0.0</td>\n",
              "      <td>0.0</td>\n",
              "      <td>0.0</td>\n",
              "      <td>0.0</td>\n",
              "      <td>...</td>\n",
              "      <td>1.0</td>\n",
              "      <td>0.0</td>\n",
              "      <td>0.0</td>\n",
              "      <td>0.0</td>\n",
              "      <td>0.0</td>\n",
              "      <td>0.0</td>\n",
              "      <td>0.0</td>\n",
              "      <td>0.0</td>\n",
              "      <td>1.0</td>\n",
              "      <td>0.0</td>\n",
              "    </tr>\n",
              "    <tr>\n",
              "      <th>2</th>\n",
              "      <td>1</td>\n",
              "      <td>5000</td>\n",
              "      <td>0.0</td>\n",
              "      <td>0.0</td>\n",
              "      <td>0.0</td>\n",
              "      <td>0.0</td>\n",
              "      <td>0.0</td>\n",
              "      <td>0.0</td>\n",
              "      <td>0.0</td>\n",
              "      <td>0.0</td>\n",
              "      <td>...</td>\n",
              "      <td>0.0</td>\n",
              "      <td>0.0</td>\n",
              "      <td>0.0</td>\n",
              "      <td>0.0</td>\n",
              "      <td>0.0</td>\n",
              "      <td>0.0</td>\n",
              "      <td>0.0</td>\n",
              "      <td>0.0</td>\n",
              "      <td>1.0</td>\n",
              "      <td>0.0</td>\n",
              "    </tr>\n",
              "    <tr>\n",
              "      <th>3</th>\n",
              "      <td>1</td>\n",
              "      <td>6692</td>\n",
              "      <td>0.0</td>\n",
              "      <td>0.0</td>\n",
              "      <td>0.0</td>\n",
              "      <td>0.0</td>\n",
              "      <td>0.0</td>\n",
              "      <td>0.0</td>\n",
              "      <td>0.0</td>\n",
              "      <td>0.0</td>\n",
              "      <td>...</td>\n",
              "      <td>0.0</td>\n",
              "      <td>1.0</td>\n",
              "      <td>0.0</td>\n",
              "      <td>0.0</td>\n",
              "      <td>0.0</td>\n",
              "      <td>0.0</td>\n",
              "      <td>0.0</td>\n",
              "      <td>0.0</td>\n",
              "      <td>1.0</td>\n",
              "      <td>0.0</td>\n",
              "    </tr>\n",
              "    <tr>\n",
              "      <th>4</th>\n",
              "      <td>1</td>\n",
              "      <td>142590</td>\n",
              "      <td>0.0</td>\n",
              "      <td>0.0</td>\n",
              "      <td>0.0</td>\n",
              "      <td>0.0</td>\n",
              "      <td>0.0</td>\n",
              "      <td>0.0</td>\n",
              "      <td>0.0</td>\n",
              "      <td>0.0</td>\n",
              "      <td>...</td>\n",
              "      <td>0.0</td>\n",
              "      <td>0.0</td>\n",
              "      <td>1.0</td>\n",
              "      <td>0.0</td>\n",
              "      <td>0.0</td>\n",
              "      <td>0.0</td>\n",
              "      <td>0.0</td>\n",
              "      <td>0.0</td>\n",
              "      <td>1.0</td>\n",
              "      <td>0.0</td>\n",
              "    </tr>\n",
              "  </tbody>\n",
              "</table>\n",
              "<p>5 rows × 116 columns</p>\n",
              "</div>\n",
              "      <button class=\"colab-df-convert\" onclick=\"convertToInteractive('df-3cf3649b-33b0-46a1-92cc-111164592f02')\"\n",
              "              title=\"Convert this dataframe to an interactive table.\"\n",
              "              style=\"display:none;\">\n",
              "        \n",
              "  <svg xmlns=\"http://www.w3.org/2000/svg\" height=\"24px\"viewBox=\"0 0 24 24\"\n",
              "       width=\"24px\">\n",
              "    <path d=\"M0 0h24v24H0V0z\" fill=\"none\"/>\n",
              "    <path d=\"M18.56 5.44l.94 2.06.94-2.06 2.06-.94-2.06-.94-.94-2.06-.94 2.06-2.06.94zm-11 1L8.5 8.5l.94-2.06 2.06-.94-2.06-.94L8.5 2.5l-.94 2.06-2.06.94zm10 10l.94 2.06.94-2.06 2.06-.94-2.06-.94-.94-2.06-.94 2.06-2.06.94z\"/><path d=\"M17.41 7.96l-1.37-1.37c-.4-.4-.92-.59-1.43-.59-.52 0-1.04.2-1.43.59L10.3 9.45l-7.72 7.72c-.78.78-.78 2.05 0 2.83L4 21.41c.39.39.9.59 1.41.59.51 0 1.02-.2 1.41-.59l7.78-7.78 2.81-2.81c.8-.78.8-2.07 0-2.86zM5.41 20L4 18.59l7.72-7.72 1.47 1.35L5.41 20z\"/>\n",
              "  </svg>\n",
              "      </button>\n",
              "      \n",
              "  <style>\n",
              "    .colab-df-container {\n",
              "      display:flex;\n",
              "      flex-wrap:wrap;\n",
              "      gap: 12px;\n",
              "    }\n",
              "\n",
              "    .colab-df-convert {\n",
              "      background-color: #E8F0FE;\n",
              "      border: none;\n",
              "      border-radius: 50%;\n",
              "      cursor: pointer;\n",
              "      display: none;\n",
              "      fill: #1967D2;\n",
              "      height: 32px;\n",
              "      padding: 0 0 0 0;\n",
              "      width: 32px;\n",
              "    }\n",
              "\n",
              "    .colab-df-convert:hover {\n",
              "      background-color: #E2EBFA;\n",
              "      box-shadow: 0px 1px 2px rgba(60, 64, 67, 0.3), 0px 1px 3px 1px rgba(60, 64, 67, 0.15);\n",
              "      fill: #174EA6;\n",
              "    }\n",
              "\n",
              "    [theme=dark] .colab-df-convert {\n",
              "      background-color: #3B4455;\n",
              "      fill: #D2E3FC;\n",
              "    }\n",
              "\n",
              "    [theme=dark] .colab-df-convert:hover {\n",
              "      background-color: #434B5C;\n",
              "      box-shadow: 0px 1px 3px 1px rgba(0, 0, 0, 0.15);\n",
              "      filter: drop-shadow(0px 1px 2px rgba(0, 0, 0, 0.3));\n",
              "      fill: #FFFFFF;\n",
              "    }\n",
              "  </style>\n",
              "\n",
              "      <script>\n",
              "        const buttonEl =\n",
              "          document.querySelector('#df-3cf3649b-33b0-46a1-92cc-111164592f02 button.colab-df-convert');\n",
              "        buttonEl.style.display =\n",
              "          google.colab.kernel.accessAllowed ? 'block' : 'none';\n",
              "\n",
              "        async function convertToInteractive(key) {\n",
              "          const element = document.querySelector('#df-3cf3649b-33b0-46a1-92cc-111164592f02');\n",
              "          const dataTable =\n",
              "            await google.colab.kernel.invokeFunction('convertToInteractive',\n",
              "                                                     [key], {});\n",
              "          if (!dataTable) return;\n",
              "\n",
              "          const docLinkHtml = 'Like what you see? Visit the ' +\n",
              "            '<a target=\"_blank\" href=https://colab.research.google.com/notebooks/data_table.ipynb>data table notebook</a>'\n",
              "            + ' to learn more about interactive tables.';\n",
              "          element.innerHTML = '';\n",
              "          dataTable['output_type'] = 'display_data';\n",
              "          await google.colab.output.renderOutput(dataTable, element);\n",
              "          const docLink = document.createElement('div');\n",
              "          docLink.innerHTML = docLinkHtml;\n",
              "          element.appendChild(docLink);\n",
              "        }\n",
              "      </script>\n",
              "    </div>\n",
              "  </div>\n",
              "  "
            ]
          },
          "metadata": {},
          "execution_count": 12
        }
      ],
      "source": [
        "# Define features set X by selecting all columns but IS_SUCCESSFUL\n",
        "X = encoded_df.drop(columns=[\"IS_SUCCESSFUL\"])\n",
        "\n",
        "# Review the features DataFrame\n",
        "X.head()"
      ]
    },
    {
      "cell_type": "markdown",
      "metadata": {
        "id": "Wgb0PFDKURsG"
      },
      "source": [
        "### Step 6: Split the features and target sets into training and testing datasets.\n"
      ]
    },
    {
      "cell_type": "code",
      "execution_count": 13,
      "metadata": {
        "id": "M_vGfjV4URsG"
      },
      "outputs": [],
      "source": [
        "# Split the preprocessed data into a training and testing dataset\n",
        "# Assign the function a random_state equal to 1\n",
        "X_train, X_test, y_train, y_test = train_test_split(X, y, random_state=1)"
      ]
    },
    {
      "cell_type": "markdown",
      "metadata": {
        "id": "hDcNY8TGURsG"
      },
      "source": [
        "### Step 7: Use scikit-learn's `StandardScaler` to scale the features data."
      ]
    },
    {
      "cell_type": "code",
      "execution_count": 14,
      "metadata": {
        "id": "MWOH8vl-URsG"
      },
      "outputs": [],
      "source": [
        "# Create a StandardScaler instance\n",
        "scaler = StandardScaler()\n",
        "\n",
        "# Fit the scaler to the features training dataset\n",
        "X_scaler = scaler.fit(X_train)\n",
        "\n",
        "# Fit the scaler to the features training dataset\n",
        "X_train_scaled = X_scaler.transform(X_train)\n",
        "X_test_scaled = X_scaler.transform(X_test)"
      ]
    },
    {
      "cell_type": "markdown",
      "metadata": {
        "id": "RvE_rJAAURsH"
      },
      "source": [
        "---\n",
        "\n",
        "## Compile and Evaluate a Binary Classification Model Using a Neural Network"
      ]
    },
    {
      "cell_type": "markdown",
      "metadata": {
        "id": "mLD8vtTqURsH"
      },
      "source": [
        "### Step 1: Create a deep neural network by assigning the number of input features, the number of layers, and the number of neurons on each layer using Tensorflow’s Keras.\n",
        "\n",
        "> **Hint** You can start with a two-layer deep neural network model that uses the `relu` activation function for both layers.\n"
      ]
    },
    {
      "cell_type": "code",
      "execution_count": 15,
      "metadata": {
        "id": "K1Vgwz04URsH",
        "colab": {
          "base_uri": "https://localhost:8080/"
        },
        "outputId": "4a9f7b6f-7216-4cab-9e0a-b00e5625c500"
      },
      "outputs": [
        {
          "output_type": "execute_result",
          "data": {
            "text/plain": [
              "116"
            ]
          },
          "metadata": {},
          "execution_count": 15
        }
      ],
      "source": [
        "# Define the the number of inputs (features) to the model\n",
        "number_input_features = len(X_train.iloc[0])\n",
        "\n",
        "# Review the number of features\n",
        "number_input_features\n"
      ]
    },
    {
      "cell_type": "code",
      "execution_count": 16,
      "metadata": {
        "id": "0mcgkl8SURsH"
      },
      "outputs": [],
      "source": [
        "# Define the number of neurons in the output layer\n",
        "number_output_neurons = 116"
      ]
    },
    {
      "cell_type": "code",
      "execution_count": 17,
      "metadata": {
        "id": "i0Q3iY3wURsH",
        "colab": {
          "base_uri": "https://localhost:8080/"
        },
        "outputId": "e6735e6a-86f3-444e-fe79-bb183858964b"
      },
      "outputs": [
        {
          "output_type": "execute_result",
          "data": {
            "text/plain": [
              "58"
            ]
          },
          "metadata": {},
          "execution_count": 17
        }
      ],
      "source": [
        "# Define the number of hidden nodes for the first hidden layer\n",
        "hidden_nodes_layer1 =  (number_input_features + 1) // 2\n",
        "\n",
        "# Review the number hidden nodes in the first layer\n",
        "hidden_nodes_layer1\n"
      ]
    },
    {
      "cell_type": "code",
      "execution_count": 18,
      "metadata": {
        "id": "Ux_lAsrvURsH",
        "colab": {
          "base_uri": "https://localhost:8080/"
        },
        "outputId": "83333bcc-6c03-4fac-f9f3-4be8312b4dcf"
      },
      "outputs": [
        {
          "output_type": "execute_result",
          "data": {
            "text/plain": [
              "29"
            ]
          },
          "metadata": {},
          "execution_count": 18
        }
      ],
      "source": [
        "# Define the number of hidden nodes for the second hidden layer\n",
        "hidden_nodes_layer2 =  (hidden_nodes_layer1 + 1) // 2\n",
        "\n",
        "# Review the number hidden nodes in the second layer\n",
        "hidden_nodes_layer2"
      ]
    },
    {
      "cell_type": "code",
      "execution_count": 19,
      "metadata": {
        "id": "1kq9QWhLURsH"
      },
      "outputs": [],
      "source": [
        "# Create the Sequential model instance\n",
        "nn = Sequential()"
      ]
    },
    {
      "cell_type": "code",
      "execution_count": 20,
      "metadata": {
        "id": "NcVrWCD_URsI"
      },
      "outputs": [],
      "source": [
        "# Add the first hidden layer\n",
        "nn.add(Dense(units=hidden_nodes_layer1, input_dim=number_input_features, activation='relu'))\n"
      ]
    },
    {
      "cell_type": "code",
      "execution_count": 21,
      "metadata": {
        "id": "Ugxr6lisURsI"
      },
      "outputs": [],
      "source": [
        "# Add the second hidden layer\n",
        "nn.add(Dense(units=hidden_nodes_layer2, activation=\"relu\"))\n"
      ]
    },
    {
      "cell_type": "code",
      "execution_count": 22,
      "metadata": {
        "id": "QxcGEyNoURsI"
      },
      "outputs": [],
      "source": [
        "# Add the output layer to the model specifying the number of output neurons and activation function\n",
        "nn.add(Dense(units=1, activation=\"sigmoid\"))\n"
      ]
    },
    {
      "cell_type": "code",
      "execution_count": 23,
      "metadata": {
        "id": "1L2ZVcXgURsI",
        "colab": {
          "base_uri": "https://localhost:8080/"
        },
        "outputId": "f14c645e-071b-4db7-d37c-522257b8e1f4"
      },
      "outputs": [
        {
          "output_type": "stream",
          "name": "stdout",
          "text": [
            "Model: \"sequential\"\n",
            "_________________________________________________________________\n",
            " Layer (type)                Output Shape              Param #   \n",
            "=================================================================\n",
            " dense (Dense)               (None, 58)                6786      \n",
            "                                                                 \n",
            " dense_1 (Dense)             (None, 29)                1711      \n",
            "                                                                 \n",
            " dense_2 (Dense)             (None, 1)                 30        \n",
            "                                                                 \n",
            "=================================================================\n",
            "Total params: 8,527\n",
            "Trainable params: 8,527\n",
            "Non-trainable params: 0\n",
            "_________________________________________________________________\n"
          ]
        }
      ],
      "source": [
        "# Display the Sequential model summary\n",
        "nn.summary()"
      ]
    },
    {
      "cell_type": "markdown",
      "metadata": {
        "id": "pzoKsvI3URsI"
      },
      "source": [
        "### Step 2: Compile and fit the model using the `binary_crossentropy` loss function, the `adam` optimizer, and the `accuracy` evaluation metric.\n"
      ]
    },
    {
      "cell_type": "code",
      "execution_count": 24,
      "metadata": {
        "id": "PR8r_cL1URsI"
      },
      "outputs": [],
      "source": [
        "# Compile the Sequential model\n",
        "nn.compile(loss=\"binary_crossentropy\", optimizer=\"adam\", metrics=[\"accuracy\"])"
      ]
    },
    {
      "cell_type": "code",
      "execution_count": 25,
      "metadata": {
        "id": "5_z-FPHJURsI",
        "colab": {
          "base_uri": "https://localhost:8080/"
        },
        "outputId": "2792ec57-996b-415f-b631-2f7995f24161"
      },
      "outputs": [
        {
          "output_type": "stream",
          "name": "stdout",
          "text": [
            "Epoch 1/50\n",
            "804/804 [==============================] - 6s 5ms/step - loss: 0.5766 - accuracy: 0.7199\n",
            "Epoch 2/50\n",
            "804/804 [==============================] - 4s 5ms/step - loss: 0.5535 - accuracy: 0.7292\n",
            "Epoch 3/50\n",
            "804/804 [==============================] - 2s 3ms/step - loss: 0.5505 - accuracy: 0.7301\n",
            "Epoch 4/50\n",
            "804/804 [==============================] - 2s 2ms/step - loss: 0.5491 - accuracy: 0.7311\n",
            "Epoch 5/50\n",
            "804/804 [==============================] - 2s 2ms/step - loss: 0.5469 - accuracy: 0.7329\n",
            "Epoch 6/50\n",
            "804/804 [==============================] - 2s 2ms/step - loss: 0.5457 - accuracy: 0.7328\n",
            "Epoch 7/50\n",
            "804/804 [==============================] - 2s 2ms/step - loss: 0.5455 - accuracy: 0.7328\n",
            "Epoch 8/50\n",
            "804/804 [==============================] - 2s 2ms/step - loss: 0.5438 - accuracy: 0.7331\n",
            "Epoch 9/50\n",
            "804/804 [==============================] - 2s 2ms/step - loss: 0.5437 - accuracy: 0.7336\n",
            "Epoch 10/50\n",
            "804/804 [==============================] - 2s 2ms/step - loss: 0.5430 - accuracy: 0.7339\n",
            "Epoch 11/50\n",
            "804/804 [==============================] - 2s 2ms/step - loss: 0.5417 - accuracy: 0.7349\n",
            "Epoch 12/50\n",
            "804/804 [==============================] - 2s 2ms/step - loss: 0.5416 - accuracy: 0.7359\n",
            "Epoch 13/50\n",
            "804/804 [==============================] - 2s 2ms/step - loss: 0.5412 - accuracy: 0.7351\n",
            "Epoch 14/50\n",
            "804/804 [==============================] - 2s 2ms/step - loss: 0.5408 - accuracy: 0.7356\n",
            "Epoch 15/50\n",
            "804/804 [==============================] - 2s 2ms/step - loss: 0.5403 - accuracy: 0.7363\n",
            "Epoch 16/50\n",
            "804/804 [==============================] - 2s 2ms/step - loss: 0.5396 - accuracy: 0.7360\n",
            "Epoch 17/50\n",
            "804/804 [==============================] - 2s 2ms/step - loss: 0.5392 - accuracy: 0.7370\n",
            "Epoch 18/50\n",
            "804/804 [==============================] - 2s 2ms/step - loss: 0.5384 - accuracy: 0.7362\n",
            "Epoch 19/50\n",
            "804/804 [==============================] - 2s 2ms/step - loss: 0.5378 - accuracy: 0.7371\n",
            "Epoch 20/50\n",
            "804/804 [==============================] - 2s 2ms/step - loss: 0.5379 - accuracy: 0.7372\n",
            "Epoch 21/50\n",
            "804/804 [==============================] - 2s 2ms/step - loss: 0.5379 - accuracy: 0.7372\n",
            "Epoch 22/50\n",
            "804/804 [==============================] - 2s 2ms/step - loss: 0.5370 - accuracy: 0.7382\n",
            "Epoch 23/50\n",
            "804/804 [==============================] - 2s 2ms/step - loss: 0.5370 - accuracy: 0.7382\n",
            "Epoch 24/50\n",
            "804/804 [==============================] - 2s 3ms/step - loss: 0.5365 - accuracy: 0.7389\n",
            "Epoch 25/50\n",
            "804/804 [==============================] - 2s 3ms/step - loss: 0.5366 - accuracy: 0.7388\n",
            "Epoch 26/50\n",
            "804/804 [==============================] - 2s 2ms/step - loss: 0.5362 - accuracy: 0.7387\n",
            "Epoch 27/50\n",
            "804/804 [==============================] - 2s 2ms/step - loss: 0.5361 - accuracy: 0.7396\n",
            "Epoch 28/50\n",
            "804/804 [==============================] - 2s 2ms/step - loss: 0.5353 - accuracy: 0.7383\n",
            "Epoch 29/50\n",
            "804/804 [==============================] - 2s 3ms/step - loss: 0.5359 - accuracy: 0.7400\n",
            "Epoch 30/50\n",
            "804/804 [==============================] - 2s 3ms/step - loss: 0.5353 - accuracy: 0.7394\n",
            "Epoch 31/50\n",
            "804/804 [==============================] - 2s 2ms/step - loss: 0.5350 - accuracy: 0.7388\n",
            "Epoch 32/50\n",
            "804/804 [==============================] - 2s 2ms/step - loss: 0.5356 - accuracy: 0.7383\n",
            "Epoch 33/50\n",
            "804/804 [==============================] - 3s 4ms/step - loss: 0.5350 - accuracy: 0.7387\n",
            "Epoch 34/50\n",
            "804/804 [==============================] - 2s 2ms/step - loss: 0.5344 - accuracy: 0.7393\n",
            "Epoch 35/50\n",
            "804/804 [==============================] - 2s 2ms/step - loss: 0.5347 - accuracy: 0.7395\n",
            "Epoch 36/50\n",
            "804/804 [==============================] - 2s 2ms/step - loss: 0.5345 - accuracy: 0.7402\n",
            "Epoch 37/50\n",
            "804/804 [==============================] - 2s 2ms/step - loss: 0.5339 - accuracy: 0.7395\n",
            "Epoch 38/50\n",
            "804/804 [==============================] - 2s 2ms/step - loss: 0.5335 - accuracy: 0.7409\n",
            "Epoch 39/50\n",
            "804/804 [==============================] - 2s 2ms/step - loss: 0.5334 - accuracy: 0.7401\n",
            "Epoch 40/50\n",
            "804/804 [==============================] - 2s 2ms/step - loss: 0.5337 - accuracy: 0.7401\n",
            "Epoch 41/50\n",
            "804/804 [==============================] - 2s 2ms/step - loss: 0.5331 - accuracy: 0.7409\n",
            "Epoch 42/50\n",
            "804/804 [==============================] - 2s 2ms/step - loss: 0.5332 - accuracy: 0.7405\n",
            "Epoch 43/50\n",
            "804/804 [==============================] - 2s 2ms/step - loss: 0.5331 - accuracy: 0.7397\n",
            "Epoch 44/50\n",
            "804/804 [==============================] - 2s 2ms/step - loss: 0.5332 - accuracy: 0.7403\n",
            "Epoch 45/50\n",
            "804/804 [==============================] - 2s 2ms/step - loss: 0.5330 - accuracy: 0.7406\n",
            "Epoch 46/50\n",
            "804/804 [==============================] - 2s 2ms/step - loss: 0.5331 - accuracy: 0.7411\n",
            "Epoch 47/50\n",
            "804/804 [==============================] - 2s 2ms/step - loss: 0.5328 - accuracy: 0.7409\n",
            "Epoch 48/50\n",
            "804/804 [==============================] - 2s 2ms/step - loss: 0.5318 - accuracy: 0.7409\n",
            "Epoch 49/50\n",
            "804/804 [==============================] - 2s 2ms/step - loss: 0.5324 - accuracy: 0.7411\n",
            "Epoch 50/50\n",
            "804/804 [==============================] - 2s 2ms/step - loss: 0.5327 - accuracy: 0.7398\n"
          ]
        }
      ],
      "source": [
        "# Fit the model using 50 epochs and the training data\n",
        "fit_model = nn.fit(X_train_scaled, y_train, epochs=50)"
      ]
    },
    {
      "cell_type": "markdown",
      "metadata": {
        "id": "JIbFSQ-FURsI"
      },
      "source": [
        "### Step 3: Evaluate the model using the test data to determine the model’s loss and accuracy.\n"
      ]
    },
    {
      "cell_type": "code",
      "execution_count": 26,
      "metadata": {
        "id": "rWaHGdGrURsI",
        "colab": {
          "base_uri": "https://localhost:8080/"
        },
        "outputId": "f3b18036-e6f3-472b-fad1-f8cf124d0065"
      },
      "outputs": [
        {
          "output_type": "stream",
          "name": "stdout",
          "text": [
            "268/268 - 1s - loss: 0.5556 - accuracy: 0.7298 - 504ms/epoch - 2ms/step\n",
            "Loss: 0.5556157827377319, Accuracy: 0.7297959327697754\n"
          ]
        }
      ],
      "source": [
        "# Evaluate the model loss and accuracy metrics using the evaluate method and the test data\n",
        "model_loss, model_accuracy = nn.evaluate(X_test_scaled, y_test, verbose=2)\n",
        "\n",
        "# Display the model loss and accuracy results\n",
        "print(f\"Loss: {model_loss}, Accuracy: {model_accuracy}\")"
      ]
    },
    {
      "cell_type": "markdown",
      "metadata": {
        "id": "ppT2iIP5URsJ"
      },
      "source": [
        "### Step 4: Save and export your model to an HDF5 file, and name the file `AlphabetSoup.h5`. \n"
      ]
    },
    {
      "cell_type": "code",
      "execution_count": 27,
      "metadata": {
        "id": "iOuA28RQURsJ"
      },
      "outputs": [],
      "source": [
        "# Set the model's file path\n",
        "file_path = Path(\"../Resources/AlphabetSoup.h5\")\n",
        "\n",
        "# Export your model to a HDF5 file\n",
        "nn.save(file_path)"
      ]
    },
    {
      "cell_type": "markdown",
      "metadata": {
        "id": "xlN5E4WfURsJ"
      },
      "source": [
        "---\n",
        "\n",
        "## Optimize the neural network model\n"
      ]
    },
    {
      "cell_type": "markdown",
      "metadata": {
        "id": "0q7pN2XKURsJ"
      },
      "source": [
        "### Step 1: Define at least three new deep neural network models (resulting in the original plus 3 optimization attempts). With each, try to improve on your first model’s predictive accuracy.\n",
        "\n",
        "> **Rewind** Recall that perfect accuracy has a value of 1, so accuracy improves as its value moves closer to 1. To optimize your model for a predictive accuracy as close to 1 as possible, you can use any or all of the following techniques:\n",
        ">\n",
        "> * Adjust the input data by dropping different features columns to ensure that no variables or outliers confuse the model.\n",
        ">\n",
        "> * Add more neurons (nodes) to a hidden layer.\n",
        ">\n",
        "> * Add more hidden layers.\n",
        ">\n",
        "> * Use different activation functions for the hidden layers.\n",
        ">\n",
        "> * Add to or reduce the number of epochs in the training regimen.\n"
      ]
    },
    {
      "cell_type": "markdown",
      "metadata": {
        "id": "slhZ-iS1URsJ"
      },
      "source": [
        "### Alternative Model 1"
      ]
    },
    {
      "cell_type": "code",
      "execution_count": 28,
      "metadata": {
        "id": "zqbrMOgCURsJ",
        "colab": {
          "base_uri": "https://localhost:8080/"
        },
        "outputId": "93f20358-13b8-4abe-ac29-912ba8713125"
      },
      "outputs": [
        {
          "output_type": "execute_result",
          "data": {
            "text/plain": [
              "116"
            ]
          },
          "metadata": {},
          "execution_count": 28
        }
      ],
      "source": [
        "# Define the the number of inputs (features) to the model\n",
        "number_input_features = len(X_train.iloc[0])\n",
        "\n",
        "# Review the number of features\n",
        "number_input_features"
      ]
    },
    {
      "cell_type": "code",
      "execution_count": 29,
      "metadata": {
        "id": "U3rrh76sURsJ"
      },
      "outputs": [],
      "source": [
        "# Define the number of neurons in the output layer\n",
        "number_output_neurons_A1 = 116"
      ]
    },
    {
      "cell_type": "code",
      "execution_count": 30,
      "metadata": {
        "id": "lMOrWGBKURsJ",
        "colab": {
          "base_uri": "https://localhost:8080/"
        },
        "outputId": "11573a0e-4b58-4e69-f0da-3948439b380e"
      },
      "outputs": [
        {
          "output_type": "execute_result",
          "data": {
            "text/plain": [
              "20"
            ]
          },
          "metadata": {},
          "execution_count": 30
        }
      ],
      "source": [
        "# Define the number of hidden nodes for the first hidden layer\n",
        "hidden_nodes_layer1_A1 =20\n",
        "\n",
        "# Review the number of hidden nodes in the first layer\n",
        "hidden_nodes_layer1_A1"
      ]
    },
    {
      "cell_type": "code",
      "execution_count": 31,
      "metadata": {
        "id": "efNsx7TfURsK"
      },
      "outputs": [],
      "source": [
        "# Create the Sequential model instance\n",
        "nn_A1 = Sequential()"
      ]
    },
    {
      "cell_type": "code",
      "execution_count": 32,
      "metadata": {
        "id": "0uMhdXQWURsK",
        "colab": {
          "base_uri": "https://localhost:8080/"
        },
        "outputId": "a744a371-7123-4866-e3d0-fd2c48c2ca93"
      },
      "outputs": [
        {
          "output_type": "stream",
          "name": "stdout",
          "text": [
            "Model: \"sequential_1\"\n",
            "_________________________________________________________________\n",
            " Layer (type)                Output Shape              Param #   \n",
            "=================================================================\n",
            " dense_3 (Dense)             (None, 58)                6786      \n",
            "                                                                 \n",
            " dense_4 (Dense)             (None, 29)                1711      \n",
            "                                                                 \n",
            "=================================================================\n",
            "Total params: 8,497\n",
            "Trainable params: 8,497\n",
            "Non-trainable params: 0\n",
            "_________________________________________________________________\n"
          ]
        }
      ],
      "source": [
        "# First hidden layer\n",
        "nn_A1.add(Dense(units=hidden_nodes_layer1, input_dim=number_input_features, activation='relu'))\n",
        "\n",
        "\n",
        "# Output layer\n",
        "nn_A1.add(Dense(units=hidden_nodes_layer2, activation=\"relu\"))\n",
        "\n",
        "\n",
        "# Check the structure of the model\n",
        "nn_A1.summary()"
      ]
    },
    {
      "cell_type": "code",
      "execution_count": 33,
      "metadata": {
        "id": "2gDpRhG7URsK"
      },
      "outputs": [],
      "source": [
        "# Compile the Sequential model\n",
        "nn_A1.compile(loss=\"binary_crossentropy\", optimizer=\"adam\", metrics=[\"accuracy\"])\n"
      ]
    },
    {
      "cell_type": "code",
      "execution_count": 34,
      "metadata": {
        "id": "zE4UD4NyURsK",
        "colab": {
          "base_uri": "https://localhost:8080/"
        },
        "outputId": "ade538fb-87c9-4a8d-ade9-4e63babd0ce6"
      },
      "outputs": [
        {
          "output_type": "stream",
          "name": "stdout",
          "text": [
            "Epoch 1/50\n",
            "804/804 [==============================] - 2s 2ms/step - loss: 0.5328 - accuracy: 0.7399\n",
            "Epoch 2/50\n",
            "804/804 [==============================] - 2s 3ms/step - loss: 0.5321 - accuracy: 0.7403\n",
            "Epoch 3/50\n",
            "804/804 [==============================] - 3s 3ms/step - loss: 0.5316 - accuracy: 0.7408\n",
            "Epoch 4/50\n",
            "804/804 [==============================] - 2s 2ms/step - loss: 0.5314 - accuracy: 0.7411\n",
            "Epoch 5/50\n",
            "804/804 [==============================] - 2s 2ms/step - loss: 0.5316 - accuracy: 0.7416\n",
            "Epoch 6/50\n",
            "804/804 [==============================] - 2s 2ms/step - loss: 0.5314 - accuracy: 0.7409\n",
            "Epoch 7/50\n",
            "804/804 [==============================] - 2s 2ms/step - loss: 0.5316 - accuracy: 0.7408\n",
            "Epoch 8/50\n",
            "804/804 [==============================] - 2s 2ms/step - loss: 0.5316 - accuracy: 0.7409\n",
            "Epoch 9/50\n",
            "804/804 [==============================] - 2s 2ms/step - loss: 0.5310 - accuracy: 0.7416\n",
            "Epoch 10/50\n",
            "804/804 [==============================] - 2s 2ms/step - loss: 0.5309 - accuracy: 0.7416\n",
            "Epoch 11/50\n",
            "804/804 [==============================] - 2s 2ms/step - loss: 0.5309 - accuracy: 0.7408\n",
            "Epoch 12/50\n",
            "804/804 [==============================] - 2s 2ms/step - loss: 0.5318 - accuracy: 0.7418\n",
            "Epoch 13/50\n",
            "804/804 [==============================] - 2s 2ms/step - loss: 0.5316 - accuracy: 0.7421\n",
            "Epoch 14/50\n",
            "804/804 [==============================] - 2s 2ms/step - loss: 0.5308 - accuracy: 0.7423\n",
            "Epoch 15/50\n",
            "804/804 [==============================] - 2s 2ms/step - loss: 0.5309 - accuracy: 0.7422\n",
            "Epoch 16/50\n",
            "804/804 [==============================] - 2s 2ms/step - loss: 0.5304 - accuracy: 0.7422\n",
            "Epoch 17/50\n",
            "804/804 [==============================] - 2s 2ms/step - loss: 0.5306 - accuracy: 0.7414\n",
            "Epoch 18/50\n",
            "804/804 [==============================] - 2s 2ms/step - loss: 0.5307 - accuracy: 0.7413\n",
            "Epoch 19/50\n",
            "804/804 [==============================] - 2s 2ms/step - loss: 0.5303 - accuracy: 0.7420\n",
            "Epoch 20/50\n",
            "804/804 [==============================] - 2s 2ms/step - loss: 0.5303 - accuracy: 0.7414\n",
            "Epoch 21/50\n",
            "804/804 [==============================] - 2s 2ms/step - loss: 0.5298 - accuracy: 0.7414\n",
            "Epoch 22/50\n",
            "804/804 [==============================] - 2s 2ms/step - loss: 0.5305 - accuracy: 0.7420\n",
            "Epoch 23/50\n",
            "804/804 [==============================] - 2s 2ms/step - loss: 0.5299 - accuracy: 0.7418\n",
            "Epoch 24/50\n",
            "804/804 [==============================] - 2s 2ms/step - loss: 0.5302 - accuracy: 0.7423\n",
            "Epoch 25/50\n",
            "804/804 [==============================] - 2s 2ms/step - loss: 0.5298 - accuracy: 0.7421\n",
            "Epoch 26/50\n",
            "804/804 [==============================] - 2s 2ms/step - loss: 0.5300 - accuracy: 0.7429\n",
            "Epoch 27/50\n",
            "804/804 [==============================] - 2s 2ms/step - loss: 0.5296 - accuracy: 0.7421\n",
            "Epoch 28/50\n",
            "804/804 [==============================] - 2s 2ms/step - loss: 0.5299 - accuracy: 0.7420\n",
            "Epoch 29/50\n",
            "804/804 [==============================] - 2s 2ms/step - loss: 0.5296 - accuracy: 0.7420\n",
            "Epoch 30/50\n",
            "804/804 [==============================] - 2s 2ms/step - loss: 0.5296 - accuracy: 0.7425\n",
            "Epoch 31/50\n",
            "804/804 [==============================] - 2s 2ms/step - loss: 0.5296 - accuracy: 0.7427\n",
            "Epoch 32/50\n",
            "804/804 [==============================] - 2s 2ms/step - loss: 0.5292 - accuracy: 0.7423\n",
            "Epoch 33/50\n",
            "804/804 [==============================] - 2s 2ms/step - loss: 0.5294 - accuracy: 0.7423\n",
            "Epoch 34/50\n",
            "804/804 [==============================] - 2s 2ms/step - loss: 0.5294 - accuracy: 0.7429\n",
            "Epoch 35/50\n",
            "804/804 [==============================] - 2s 2ms/step - loss: 0.5298 - accuracy: 0.7421\n",
            "Epoch 36/50\n",
            "804/804 [==============================] - 2s 2ms/step - loss: 0.5290 - accuracy: 0.7421\n",
            "Epoch 37/50\n",
            "804/804 [==============================] - 2s 2ms/step - loss: 0.5291 - accuracy: 0.7425\n",
            "Epoch 38/50\n",
            "804/804 [==============================] - 2s 2ms/step - loss: 0.5289 - accuracy: 0.7423\n",
            "Epoch 39/50\n",
            "804/804 [==============================] - 2s 2ms/step - loss: 0.5294 - accuracy: 0.7421\n",
            "Epoch 40/50\n",
            "804/804 [==============================] - 2s 2ms/step - loss: 0.5288 - accuracy: 0.7427\n",
            "Epoch 41/50\n",
            "804/804 [==============================] - 2s 2ms/step - loss: 0.5289 - accuracy: 0.7425\n",
            "Epoch 42/50\n",
            "804/804 [==============================] - 2s 2ms/step - loss: 0.5291 - accuracy: 0.7426\n",
            "Epoch 43/50\n",
            "804/804 [==============================] - 2s 2ms/step - loss: 0.5285 - accuracy: 0.7428\n",
            "Epoch 44/50\n",
            "804/804 [==============================] - 2s 2ms/step - loss: 0.5285 - accuracy: 0.7425\n",
            "Epoch 45/50\n",
            "804/804 [==============================] - 2s 2ms/step - loss: 0.5289 - accuracy: 0.7429\n",
            "Epoch 46/50\n",
            "804/804 [==============================] - 2s 2ms/step - loss: 0.5293 - accuracy: 0.7425\n",
            "Epoch 47/50\n",
            "804/804 [==============================] - 2s 2ms/step - loss: 0.5287 - accuracy: 0.7419\n",
            "Epoch 48/50\n",
            "804/804 [==============================] - 2s 2ms/step - loss: 0.5284 - accuracy: 0.7426\n",
            "Epoch 49/50\n",
            "804/804 [==============================] - 3s 4ms/step - loss: 0.5285 - accuracy: 0.7429\n",
            "Epoch 50/50\n",
            "804/804 [==============================] - 2s 2ms/step - loss: 0.5287 - accuracy: 0.7427\n"
          ]
        }
      ],
      "source": [
        "# Fit the model using 50 epochs and the training data\n",
        "fit_model_A1 = nn.fit(X_train_scaled, y_train, epochs=50)\n"
      ]
    },
    {
      "cell_type": "markdown",
      "metadata": {
        "id": "aMZAmHrlURsK"
      },
      "source": [
        "#### Alternative Model 2"
      ]
    },
    {
      "cell_type": "code",
      "execution_count": 35,
      "metadata": {
        "id": "Mw0cxkvOURsK",
        "colab": {
          "base_uri": "https://localhost:8080/"
        },
        "outputId": "95f06a84-ecee-4d6d-cb8f-b451743c8405"
      },
      "outputs": [
        {
          "output_type": "execute_result",
          "data": {
            "text/plain": [
              "116"
            ]
          },
          "metadata": {},
          "execution_count": 35
        }
      ],
      "source": [
        "# Define the the number of inputs (features) to the model\n",
        "number_input_features = len(X_train.iloc[0])\n",
        "\n",
        "# Review the number of features\n",
        "number_input_features"
      ]
    },
    {
      "cell_type": "code",
      "execution_count": 36,
      "metadata": {
        "id": "qnLSrAKJURsK"
      },
      "outputs": [],
      "source": [
        "# Define the number of neurons in the output layer\n",
        "number_output_neurons_A2 = 116"
      ]
    },
    {
      "cell_type": "code",
      "execution_count": 37,
      "metadata": {
        "id": "myK4iGVBURsK",
        "colab": {
          "base_uri": "https://localhost:8080/"
        },
        "outputId": "5943e45d-6117-4e7e-839f-4e2c8647e91b"
      },
      "outputs": [
        {
          "output_type": "execute_result",
          "data": {
            "text/plain": [
              "10"
            ]
          },
          "metadata": {},
          "execution_count": 37
        }
      ],
      "source": [
        "# Define the number of hidden nodes for the first hidden layer\n",
        "hidden_nodes_layer1_A2 = 10\n",
        "\n",
        "# Review the number of hidden nodes in the first layer\n",
        "hidden_nodes_layer1_A2"
      ]
    },
    {
      "cell_type": "code",
      "execution_count": 38,
      "metadata": {
        "id": "lB6J98OSURsL"
      },
      "outputs": [],
      "source": [
        "# Create the Sequential model instance\n",
        "nn_A2 = Sequential()"
      ]
    },
    {
      "cell_type": "code",
      "execution_count": 39,
      "metadata": {
        "id": "EX5HLuh9URsL",
        "colab": {
          "base_uri": "https://localhost:8080/"
        },
        "outputId": "00cd396f-2afb-4e80-b485-4ee7b8fe483b"
      },
      "outputs": [
        {
          "output_type": "stream",
          "name": "stdout",
          "text": [
            "Model: \"sequential_2\"\n",
            "_________________________________________________________________\n",
            " Layer (type)                Output Shape              Param #   \n",
            "=================================================================\n",
            " dense_5 (Dense)             (None, 58)                6786      \n",
            "                                                                 \n",
            " dense_6 (Dense)             (None, 29)                1711      \n",
            "                                                                 \n",
            "=================================================================\n",
            "Total params: 8,497\n",
            "Trainable params: 8,497\n",
            "Non-trainable params: 0\n",
            "_________________________________________________________________\n"
          ]
        }
      ],
      "source": [
        "# First hidden layer\n",
        "nn_A2.add(Dense(units=hidden_nodes_layer1, input_dim=number_input_features, activation='relu'))\n",
        "\n",
        "# Output layer\n",
        "nn_A2.add(Dense(units=hidden_nodes_layer2, activation=\"relu\"))\n",
        "\n",
        "# Check the structure of the model\n",
        "nn_A2.summary()\n"
      ]
    },
    {
      "cell_type": "code",
      "execution_count": 40,
      "metadata": {
        "id": "JrI6zrIRURsL"
      },
      "outputs": [],
      "source": [
        "# Compile the model\n",
        "nn_A2.compile(loss=\"binary_crossentropy\", optimizer=\"adam\", metrics=[\"accuracy\"])\n",
        "\n"
      ]
    },
    {
      "cell_type": "code",
      "execution_count": 41,
      "metadata": {
        "id": "8M3fXVn_URsL",
        "colab": {
          "base_uri": "https://localhost:8080/"
        },
        "outputId": "e9a9c9eb-e5ea-430d-b444-fa56d80fe3d5"
      },
      "outputs": [
        {
          "output_type": "stream",
          "name": "stdout",
          "text": [
            "Epoch 1/50\n",
            "804/804 [==============================] - 2s 2ms/step - loss: 0.5283 - accuracy: 0.7429\n",
            "Epoch 2/50\n",
            "804/804 [==============================] - 2s 2ms/step - loss: 0.5284 - accuracy: 0.7432\n",
            "Epoch 3/50\n",
            "804/804 [==============================] - 2s 2ms/step - loss: 0.5283 - accuracy: 0.7426\n",
            "Epoch 4/50\n",
            "804/804 [==============================] - 2s 2ms/step - loss: 0.5287 - accuracy: 0.7427\n",
            "Epoch 5/50\n",
            "804/804 [==============================] - 2s 2ms/step - loss: 0.5285 - accuracy: 0.7431\n",
            "Epoch 6/50\n",
            "804/804 [==============================] - 2s 2ms/step - loss: 0.5279 - accuracy: 0.7432\n",
            "Epoch 7/50\n",
            "804/804 [==============================] - 2s 2ms/step - loss: 0.5286 - accuracy: 0.7430\n",
            "Epoch 8/50\n",
            "804/804 [==============================] - 2s 2ms/step - loss: 0.5280 - accuracy: 0.7433\n",
            "Epoch 9/50\n",
            "804/804 [==============================] - 2s 2ms/step - loss: 0.5283 - accuracy: 0.7427\n",
            "Epoch 10/50\n",
            "804/804 [==============================] - 2s 2ms/step - loss: 0.5280 - accuracy: 0.7427\n",
            "Epoch 11/50\n",
            "804/804 [==============================] - 2s 2ms/step - loss: 0.5282 - accuracy: 0.7426\n",
            "Epoch 12/50\n",
            "804/804 [==============================] - 2s 2ms/step - loss: 0.5273 - accuracy: 0.7433\n",
            "Epoch 13/50\n",
            "804/804 [==============================] - 2s 2ms/step - loss: 0.5278 - accuracy: 0.7438\n",
            "Epoch 14/50\n",
            "804/804 [==============================] - 2s 2ms/step - loss: 0.5278 - accuracy: 0.7427\n",
            "Epoch 15/50\n",
            "804/804 [==============================] - 2s 2ms/step - loss: 0.5283 - accuracy: 0.7428\n",
            "Epoch 16/50\n",
            "804/804 [==============================] - 2s 2ms/step - loss: 0.5277 - accuracy: 0.7426\n",
            "Epoch 17/50\n",
            "804/804 [==============================] - 2s 2ms/step - loss: 0.5280 - accuracy: 0.7427\n",
            "Epoch 18/50\n",
            "804/804 [==============================] - 2s 2ms/step - loss: 0.5282 - accuracy: 0.7428\n",
            "Epoch 19/50\n",
            "804/804 [==============================] - 2s 2ms/step - loss: 0.5279 - accuracy: 0.7423\n",
            "Epoch 20/50\n",
            "804/804 [==============================] - 2s 2ms/step - loss: 0.5282 - accuracy: 0.7432\n",
            "Epoch 21/50\n",
            "804/804 [==============================] - 2s 2ms/step - loss: 0.5277 - accuracy: 0.7429\n",
            "Epoch 22/50\n",
            "804/804 [==============================] - 2s 2ms/step - loss: 0.5274 - accuracy: 0.7427\n",
            "Epoch 23/50\n",
            "804/804 [==============================] - 2s 2ms/step - loss: 0.5276 - accuracy: 0.7430\n",
            "Epoch 24/50\n",
            "804/804 [==============================] - 2s 2ms/step - loss: 0.5279 - accuracy: 0.7428\n",
            "Epoch 25/50\n",
            "804/804 [==============================] - 2s 2ms/step - loss: 0.5275 - accuracy: 0.7427\n",
            "Epoch 26/50\n",
            "804/804 [==============================] - 2s 2ms/step - loss: 0.5275 - accuracy: 0.7426\n",
            "Epoch 27/50\n",
            "804/804 [==============================] - 2s 2ms/step - loss: 0.5276 - accuracy: 0.7429\n",
            "Epoch 28/50\n",
            "804/804 [==============================] - 2s 2ms/step - loss: 0.5271 - accuracy: 0.7428\n",
            "Epoch 29/50\n",
            "804/804 [==============================] - 2s 2ms/step - loss: 0.5271 - accuracy: 0.7437\n",
            "Epoch 30/50\n",
            "804/804 [==============================] - 2s 2ms/step - loss: 0.5274 - accuracy: 0.7430\n",
            "Epoch 31/50\n",
            "804/804 [==============================] - 2s 2ms/step - loss: 0.5275 - accuracy: 0.7433\n",
            "Epoch 32/50\n",
            "804/804 [==============================] - 2s 2ms/step - loss: 0.5270 - accuracy: 0.7438\n",
            "Epoch 33/50\n",
            "804/804 [==============================] - 2s 2ms/step - loss: 0.5272 - accuracy: 0.7422\n",
            "Epoch 34/50\n",
            "804/804 [==============================] - 2s 2ms/step - loss: 0.5274 - accuracy: 0.7431\n",
            "Epoch 35/50\n",
            "804/804 [==============================] - 2s 2ms/step - loss: 0.5282 - accuracy: 0.7429\n",
            "Epoch 36/50\n",
            "804/804 [==============================] - 2s 2ms/step - loss: 0.5270 - accuracy: 0.7430\n",
            "Epoch 37/50\n",
            "804/804 [==============================] - 2s 2ms/step - loss: 0.5271 - accuracy: 0.7435\n",
            "Epoch 38/50\n",
            "804/804 [==============================] - 2s 2ms/step - loss: 0.5266 - accuracy: 0.7428\n",
            "Epoch 39/50\n",
            "804/804 [==============================] - 2s 2ms/step - loss: 0.5270 - accuracy: 0.7424\n",
            "Epoch 40/50\n",
            "804/804 [==============================] - 2s 2ms/step - loss: 0.5270 - accuracy: 0.7439\n",
            "Epoch 41/50\n",
            "804/804 [==============================] - 3s 3ms/step - loss: 0.5278 - accuracy: 0.7438\n",
            "Epoch 42/50\n",
            "804/804 [==============================] - 2s 3ms/step - loss: 0.5269 - accuracy: 0.7432\n",
            "Epoch 43/50\n",
            "804/804 [==============================] - 2s 2ms/step - loss: 0.5270 - accuracy: 0.7431\n",
            "Epoch 44/50\n",
            "804/804 [==============================] - 2s 2ms/step - loss: 0.5271 - accuracy: 0.7429\n",
            "Epoch 45/50\n",
            "804/804 [==============================] - 2s 2ms/step - loss: 0.5270 - accuracy: 0.7430\n",
            "Epoch 46/50\n",
            "804/804 [==============================] - 2s 2ms/step - loss: 0.5268 - accuracy: 0.7428\n",
            "Epoch 47/50\n",
            "804/804 [==============================] - 2s 2ms/step - loss: 0.5272 - accuracy: 0.7432\n",
            "Epoch 48/50\n",
            "804/804 [==============================] - 2s 2ms/step - loss: 0.5271 - accuracy: 0.7434\n",
            "Epoch 49/50\n",
            "804/804 [==============================] - 2s 2ms/step - loss: 0.5263 - accuracy: 0.7425\n",
            "Epoch 50/50\n",
            "804/804 [==============================] - 2s 2ms/step - loss: 0.5269 - accuracy: 0.7429\n"
          ]
        }
      ],
      "source": [
        "# Fit the model\n",
        "fit_model_A1 = nn.fit(X_train_scaled, y_train, epochs=50)"
      ]
    },
    {
      "cell_type": "markdown",
      "metadata": {
        "id": "JkA48Z4hURsL"
      },
      "source": [
        "### Step 2: After finishing your models, display the accuracy scores achieved by each model, and compare the results."
      ]
    },
    {
      "cell_type": "code",
      "execution_count": 42,
      "metadata": {
        "id": "RXhF6K8SURsL",
        "colab": {
          "base_uri": "https://localhost:8080/"
        },
        "outputId": "b79cc4ce-d537-4127-f597-ef22451f8cf1"
      },
      "outputs": [
        {
          "output_type": "stream",
          "name": "stdout",
          "text": [
            "Original Model Results\n",
            "268/268 - 0s - loss: 0.0000e+00 - accuracy: 0.0000e+00 - 335ms/epoch - 1ms/step\n",
            "Loss: 0.0, Accuracy: 0.0\n"
          ]
        }
      ],
      "source": [
        "print(\"Original Model Results\")\n",
        "\n",
        "# Evaluate the model loss and accuracy metrics using the evaluate method and the test data\n",
        "model_loss, model_accuracy = nn.evaluate(X_test_scaled, verbose=2)\n",
        "\n",
        "# Display the model loss and accuracy results\n",
        "print(f\"Loss: {model_loss}, Accuracy: {model_accuracy}\")"
      ]
    },
    {
      "cell_type": "code",
      "execution_count": 43,
      "metadata": {
        "id": "W52oclvkURsL",
        "colab": {
          "base_uri": "https://localhost:8080/",
          "height": 1000
        },
        "outputId": "3b52e3fa-70c1-45d4-eda2-fbd0c5680c04"
      },
      "outputs": [
        {
          "output_type": "stream",
          "name": "stdout",
          "text": [
            "Alternative Model 1 Results\n"
          ]
        },
        {
          "output_type": "error",
          "ename": "AttributeError",
          "evalue": "ignored",
          "traceback": [
            "\u001b[0;31m---------------------------------------------------------------------------\u001b[0m",
            "\u001b[0;31mAttributeError\u001b[0m                            Traceback (most recent call last)",
            "\u001b[0;32m<ipython-input-43-57c1e5064ae5>\u001b[0m in \u001b[0;36m<module>\u001b[0;34m\u001b[0m\n\u001b[1;32m      2\u001b[0m \u001b[0;34m\u001b[0m\u001b[0m\n\u001b[1;32m      3\u001b[0m \u001b[0;31m# Evaluate the model loss and accuracy metrics using the evaluate method and the test data\u001b[0m\u001b[0;34m\u001b[0m\u001b[0;34m\u001b[0m\u001b[0;34m\u001b[0m\u001b[0m\n\u001b[0;32m----> 4\u001b[0;31m \u001b[0mmodel_loss\u001b[0m\u001b[0;34m,\u001b[0m \u001b[0mmodel_accuracy\u001b[0m \u001b[0;34m=\u001b[0m \u001b[0mnn_A1\u001b[0m\u001b[0;34m.\u001b[0m\u001b[0mevaluate\u001b[0m\u001b[0;34m(\u001b[0m\u001b[0mX_test_scaled\u001b[0m\u001b[0;34m,\u001b[0m \u001b[0mverbose\u001b[0m\u001b[0;34m=\u001b[0m\u001b[0;36m3\u001b[0m\u001b[0;34m)\u001b[0m\u001b[0;34m\u001b[0m\u001b[0;34m\u001b[0m\u001b[0m\n\u001b[0m\u001b[1;32m      5\u001b[0m \u001b[0;34m\u001b[0m\u001b[0m\n\u001b[1;32m      6\u001b[0m \u001b[0;31m# Display the model loss and accuracy results\u001b[0m\u001b[0;34m\u001b[0m\u001b[0;34m\u001b[0m\u001b[0;34m\u001b[0m\u001b[0m\n",
            "\u001b[0;32m/usr/local/lib/python3.7/dist-packages/keras/utils/traceback_utils.py\u001b[0m in \u001b[0;36merror_handler\u001b[0;34m(*args, **kwargs)\u001b[0m\n\u001b[1;32m     65\u001b[0m     \u001b[0;32mexcept\u001b[0m \u001b[0mException\u001b[0m \u001b[0;32mas\u001b[0m \u001b[0me\u001b[0m\u001b[0;34m:\u001b[0m  \u001b[0;31m# pylint: disable=broad-except\u001b[0m\u001b[0;34m\u001b[0m\u001b[0;34m\u001b[0m\u001b[0m\n\u001b[1;32m     66\u001b[0m       \u001b[0mfiltered_tb\u001b[0m \u001b[0;34m=\u001b[0m \u001b[0m_process_traceback_frames\u001b[0m\u001b[0;34m(\u001b[0m\u001b[0me\u001b[0m\u001b[0;34m.\u001b[0m\u001b[0m__traceback__\u001b[0m\u001b[0;34m)\u001b[0m\u001b[0;34m\u001b[0m\u001b[0;34m\u001b[0m\u001b[0m\n\u001b[0;32m---> 67\u001b[0;31m       \u001b[0;32mraise\u001b[0m \u001b[0me\u001b[0m\u001b[0;34m.\u001b[0m\u001b[0mwith_traceback\u001b[0m\u001b[0;34m(\u001b[0m\u001b[0mfiltered_tb\u001b[0m\u001b[0;34m)\u001b[0m \u001b[0;32mfrom\u001b[0m \u001b[0;32mNone\u001b[0m\u001b[0;34m\u001b[0m\u001b[0;34m\u001b[0m\u001b[0m\n\u001b[0m\u001b[1;32m     68\u001b[0m     \u001b[0;32mfinally\u001b[0m\u001b[0;34m:\u001b[0m\u001b[0;34m\u001b[0m\u001b[0;34m\u001b[0m\u001b[0m\n\u001b[1;32m     69\u001b[0m       \u001b[0;32mdel\u001b[0m \u001b[0mfiltered_tb\u001b[0m\u001b[0;34m\u001b[0m\u001b[0;34m\u001b[0m\u001b[0m\n",
            "\u001b[0;32m/usr/local/lib/python3.7/dist-packages/keras/engine/training.py\u001b[0m in \u001b[0;36mtf__test_function\u001b[0;34m(iterator)\u001b[0m\n\u001b[1;32m     13\u001b[0m                 \u001b[0;32mtry\u001b[0m\u001b[0;34m:\u001b[0m\u001b[0;34m\u001b[0m\u001b[0;34m\u001b[0m\u001b[0m\n\u001b[1;32m     14\u001b[0m                     \u001b[0mdo_return\u001b[0m \u001b[0;34m=\u001b[0m \u001b[0;32mTrue\u001b[0m\u001b[0;34m\u001b[0m\u001b[0;34m\u001b[0m\u001b[0m\n\u001b[0;32m---> 15\u001b[0;31m                     \u001b[0mretval_\u001b[0m \u001b[0;34m=\u001b[0m \u001b[0mag__\u001b[0m\u001b[0;34m.\u001b[0m\u001b[0mconverted_call\u001b[0m\u001b[0;34m(\u001b[0m\u001b[0mag__\u001b[0m\u001b[0;34m.\u001b[0m\u001b[0mld\u001b[0m\u001b[0;34m(\u001b[0m\u001b[0mstep_function\u001b[0m\u001b[0;34m)\u001b[0m\u001b[0;34m,\u001b[0m \u001b[0;34m(\u001b[0m\u001b[0mag__\u001b[0m\u001b[0;34m.\u001b[0m\u001b[0mld\u001b[0m\u001b[0;34m(\u001b[0m\u001b[0mself\u001b[0m\u001b[0;34m)\u001b[0m\u001b[0;34m,\u001b[0m \u001b[0mag__\u001b[0m\u001b[0;34m.\u001b[0m\u001b[0mld\u001b[0m\u001b[0;34m(\u001b[0m\u001b[0miterator\u001b[0m\u001b[0;34m)\u001b[0m\u001b[0;34m)\u001b[0m\u001b[0;34m,\u001b[0m \u001b[0;32mNone\u001b[0m\u001b[0;34m,\u001b[0m \u001b[0mfscope\u001b[0m\u001b[0;34m)\u001b[0m\u001b[0;34m\u001b[0m\u001b[0;34m\u001b[0m\u001b[0m\n\u001b[0m\u001b[1;32m     16\u001b[0m                 \u001b[0;32mexcept\u001b[0m\u001b[0;34m:\u001b[0m\u001b[0;34m\u001b[0m\u001b[0;34m\u001b[0m\u001b[0m\n\u001b[1;32m     17\u001b[0m                     \u001b[0mdo_return\u001b[0m \u001b[0;34m=\u001b[0m \u001b[0;32mFalse\u001b[0m\u001b[0;34m\u001b[0m\u001b[0;34m\u001b[0m\u001b[0m\n",
            "\u001b[0;31mAttributeError\u001b[0m: in user code:\n\n    File \"/usr/local/lib/python3.7/dist-packages/keras/engine/training.py\", line 1557, in test_function  *\n        return step_function(self, iterator)\n    File \"/usr/local/lib/python3.7/dist-packages/keras/engine/training.py\", line 1546, in step_function  **\n        outputs = model.distribute_strategy.run(run_step, args=(data,))\n    File \"/usr/local/lib/python3.7/dist-packages/keras/engine/training.py\", line 1535, in run_step  **\n        outputs = model.test_step(data)\n    File \"/usr/local/lib/python3.7/dist-packages/keras/engine/training.py\", line 1502, in test_step\n        return self.compute_metrics(x, y, y_pred, sample_weight)\n    File \"/usr/local/lib/python3.7/dist-packages/keras/engine/training.py\", line 987, in compute_metrics\n        self.compiled_metrics.update_state(y, y_pred, sample_weight)\n    File \"/usr/local/lib/python3.7/dist-packages/keras/engine/compile_utils.py\", line 480, in update_state\n        self.build(y_pred, y_true)\n    File \"/usr/local/lib/python3.7/dist-packages/keras/engine/compile_utils.py\", line 398, in build\n        y_pred)\n    File \"/usr/local/lib/python3.7/dist-packages/keras/engine/compile_utils.py\", line 526, in _get_metric_objects\n        return [self._get_metric_object(m, y_t, y_p) for m in metrics]\n    File \"/usr/local/lib/python3.7/dist-packages/keras/engine/compile_utils.py\", line 526, in <listcomp>\n        return [self._get_metric_object(m, y_t, y_p) for m in metrics]\n    File \"/usr/local/lib/python3.7/dist-packages/keras/engine/compile_utils.py\", line 547, in _get_metric_object\n        y_t_rank = len(y_t.shape.as_list())\n\n    AttributeError: 'NoneType' object has no attribute 'shape'\n"
          ]
        }
      ],
      "source": [
        "print(\"Alternative Model 1 Results\")\n",
        "\n",
        "# Evaluate the model loss and accuracy metrics using the evaluate method and the test data\n",
        "model_loss, model_accuracy = nn_A1.evaluate(X_test_scaled, verbose=3)\n",
        "\n",
        "# Display the model loss and accuracy results\n",
        "print(f\"Loss: {model_loss}, Accuracy: {model_accuracy}\")"
      ]
    },
    {
      "cell_type": "code",
      "execution_count": null,
      "metadata": {
        "id": "4yPtU8_nURsL"
      },
      "outputs": [],
      "source": [
        "print(\"Alternative Model 2 Results\")\n",
        "\n",
        "# Evaluate the model loss and accuracy metrics using the evaluate method and the test data\n",
        "model_loss, model_accuracy = nn_A2.evaluate(X_test_scaled, verbose=3)\n",
        "\n",
        "\n",
        "# Display the model loss and accuracy results\n",
        "print(f\"Loss: {model_loss}, Accuracy: {model_accuracy}\")"
      ]
    },
    {
      "cell_type": "markdown",
      "metadata": {
        "id": "eQ3b2y7OURsM"
      },
      "source": [
        "### Step 3: Save each of your alternative models as an HDF5 file.\n"
      ]
    },
    {
      "cell_type": "code",
      "execution_count": null,
      "metadata": {
        "id": "a1tXiNBZURsM"
      },
      "outputs": [],
      "source": [
        "# Set the file path for the first alternative model\n",
        "file_path = # YOUR CODE HERE\n",
        "\n",
        "# Export your model to a HDF5 file\n",
        "# YOUR CODE HERE\n"
      ]
    },
    {
      "cell_type": "code",
      "execution_count": null,
      "metadata": {
        "id": "W9KTZW35URsM"
      },
      "outputs": [],
      "source": [
        "# Set the file path for the second alternative model\n",
        "file_path = # YOUR CODE HERE\n",
        "\n",
        "# Export your model to a HDF5 file\n",
        "# YOUR CODE HERE\n"
      ]
    },
    {
      "cell_type": "code",
      "execution_count": null,
      "metadata": {
        "id": "IiQ2lyQuURsM"
      },
      "outputs": [],
      "source": []
    }
  ],
  "metadata": {
    "colab": {
      "provenance": [],
      "collapsed_sections": [
        "0q7pN2XKURsJ"
      ],
      "include_colab_link": true
    },
    "kernelspec": {
      "display_name": "Python 3",
      "language": "python",
      "name": "python3"
    },
    "language_info": {
      "codemirror_mode": {
        "name": "ipython",
        "version": 3
      },
      "file_extension": ".py",
      "mimetype": "text/x-python",
      "name": "python",
      "nbconvert_exporter": "python",
      "pygments_lexer": "ipython3",
      "version": "3.7.7"
    }
  },
  "nbformat": 4,
  "nbformat_minor": 0
}